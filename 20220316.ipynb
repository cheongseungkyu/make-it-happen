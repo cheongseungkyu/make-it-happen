{
  "nbformat": 4,
  "nbformat_minor": 0,
  "metadata": {
    "colab": {
      "name": "20220316.ipynb",
      "provenance": [],
      "collapsed_sections": [],
      "authorship_tag": "ABX9TyMLtmGtfK3bnBjddCHo1yJl",
      "include_colab_link": true
    },
    "kernelspec": {
      "name": "python3",
      "display_name": "Python 3"
    },
    "language_info": {
      "name": "python"
    }
  },
  "cells": [
    {
      "cell_type": "markdown",
      "metadata": {
        "id": "view-in-github",
        "colab_type": "text"
      },
      "source": [
        "<a href=\"https://colab.research.google.com/github/cheongseungkyu/make-it-happen/blob/main/20220316.ipynb\" target=\"_parent\"><img src=\"https://colab.research.google.com/assets/colab-badge.svg\" alt=\"Open In Colab\"/></a>"
      ]
    },
    {
      "cell_type": "markdown",
      "source": [
        "python -> coding language / \n",
        "colab -> google (cloud 환경) / \n",
        "github -> repository (저장)\n",
        "\n",
        "data processing (text, sound, image)\n",
        "-> data를 어떻게 처리하는가? -> AI를 통해 -> AI Model (함수)\n",
        "\n",
        "input (입력) -> 함수 -> output (출력)\n",
        "\n",
        "huggingface : AI Model을 모아놓은 곳\n",
        "gradio : web programing에 들어가는 노력을 줄여줌 (web demo)\n",
        "\n",
        "input (text, sound, image) -> AI 함수 (models) -> output (text, sound, image)\n",
        "\n",
        "ex) text -> sound: TTS (Text to Speech)\n",
        "    sound -> text: STT (Sound to Text) / 음성 인식\n",
        "\n",
        "Coding - variables (변수 - 숫자 / 문자)\n",
        "       - 문법 : if (조건문) / for (반복문)\n",
        "       - 함수 : 입력, 출력으로 wrapping\n",
        "       - 팩키지 : library\n",
        "\n",
        "Programming Language - variable - syntax (조건문 if / 반복문 for, while)\n",
        "Natural Language - word - content / meaning - syntax\n",
        "\n",
        "\n",
        "\n",
        "\n"
      ],
      "metadata": {
        "id": "Fd8x7SE9yx3T"
      }
    },
    {
      "cell_type": "code",
      "source": [
        "a = 1\n",
        "b = 3\n",
        "c = 5"
      ],
      "metadata": {
        "id": "FHDnW08l83KI"
      },
      "execution_count": 1,
      "outputs": []
    },
    {
      "cell_type": "code",
      "source": [
        "a + b - c"
      ],
      "metadata": {
        "id": "F4BRRqOS9Mwa",
        "outputId": "38d32c70-8243-42c0-a093-73aea8bc8c15",
        "colab": {
          "base_uri": "https://localhost:8080/"
        }
      },
      "execution_count": 4,
      "outputs": [
        {
          "output_type": "execute_result",
          "data": {
            "text/plain": [
              "-1"
            ]
          },
          "metadata": {},
          "execution_count": 4
        }
      ]
    }
  ]
}