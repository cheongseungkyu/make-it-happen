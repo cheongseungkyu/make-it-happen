{
  "nbformat": 4,
  "nbformat_minor": 0,
  "metadata": {
    "colab": {
      "name": "20220316.ipynb",
      "provenance": [],
      "collapsed_sections": [],
      "toc_visible": true,
      "authorship_tag": "ABX9TyMj27hn7jlURw7uhXCDlvo6",
      "include_colab_link": true
    },
    "kernelspec": {
      "name": "python3",
      "display_name": "Python 3"
    },
    "language_info": {
      "name": "python"
    }
  },
  "cells": [
    {
      "cell_type": "markdown",
      "metadata": {
        "id": "view-in-github",
        "colab_type": "text"
      },
      "source": [
        "<a href=\"https://colab.research.google.com/github/cheongseungkyu/make-it-happen/blob/main/20220316.ipynb\" target=\"_parent\"><img src=\"https://colab.research.google.com/assets/colab-badge.svg\" alt=\"Open In Colab\"/></a>"
      ]
    },
    {
      "cell_type": "markdown",
      "source": [
        "python -> coding language / \n",
        "colab -> google (cloud 환경, 편집) / \n",
        "github -> repository (저장소)\n",
        "\n",
        "data processing (data = text, sound, image)\n",
        "-> data를 어떻게 처리하는가? -> AI를 통해 -> AI Model (함수)\n",
        "AI도 함수다!!\n",
        "\n",
        "input (입력) -> 함수 -> output (출력)\n",
        "입력값을 바꿔줌\n",
        "\n",
        "huggingface : AI Model을 모아놓은 곳 / python coding으로 들어있음 / 전부 coding 형태 / X DEMO / GPT 활용 / GPT-3 최신 -> Open AI\n",
        "gradio : web programming에 들어가는 시간과 노력을 줄여줌 (web demo)\n",
        "huggingface & gradio 회사 합쳐짐\n",
        "\n",
        "input (text, sound, image) -> AI 함수 (models) -> output (text, sound, image)\n",
        "\n",
        "ex) text -> sound: TTS (Text to Speech) / 음성 합성\n",
        "    sound -> text: STT (Sound to Text) / 음성 인식\n",
        "    text -> image\n",
        "    image -> text\n",
        "\n",
        "Coding - language: C, C++, Python(data, AI), GO, JAVA(web), ... \n",
        "                 언어들의 공통점!!\n",
        "       - variables (변수 - 숫자 / 문자 = '', \"\")\n",
        "       - 문법, syntax : if (조건문) / for (반복문) - 여러번\n",
        "       - 함수, function : 입력, 출력으로 wrapping\n",
        "       - 팩키지 (여러가지 특정 용도를 위한 것) : library\n",
        "\n",
        "Programming Language - variables - 변수 assign의 과정, 행위 - syntax (조건문 if / 반복문 for, while)\n",
        "Natural Language, 일반 언어 - words 핵심! - content = meaning - syntax\n",
        "팩키지 불러오는 것은 import!!\n",
        "value가 variables의 content\n",
        "\n",
        "\n",
        "\n"
      ],
      "metadata": {
        "id": "Fd8x7SE9yx3T"
      }
    },
    {
      "cell_type": "markdown",
      "source": [
        "Variables - Numbers / Strings / List = [ numbers , strings , ... ] / dict = dictionary\n",
        "\n",
        "int - integer, 정수\n",
        "float - 실수, 소수점이 들어간 수\n",
        "1과 1.0은 다름!!\n",
        "\n",
        "list와 string은 indexing의 방법이 똑같다!!"
      ],
      "metadata": {
        "id": "30QbUFMlBgGj"
      }
    },
    {
      "cell_type": "markdown",
      "source": [
        "Numbers"
      ],
      "metadata": {
        "id": "qYxHERaQAIXA"
      }
    },
    {
      "cell_type": "code",
      "source": [
        "a = 1\n",
        "b = 3\n",
        "c = 5"
      ],
      "metadata": {
        "id": "FHDnW08l83KI"
      },
      "execution_count": null,
      "outputs": []
    },
    {
      "cell_type": "code",
      "source": [
        "a + b - c"
      ],
      "metadata": {
        "colab": {
          "base_uri": "https://localhost:8080/"
        },
        "id": "F4BRRqOS9Mwa",
        "outputId": "38d32c70-8243-42c0-a093-73aea8bc8c15"
      },
      "execution_count": null,
      "outputs": [
        {
          "output_type": "execute_result",
          "data": {
            "text/plain": [
              "-1"
            ]
          },
          "metadata": {},
          "execution_count": 4
        }
      ]
    },
    {
      "cell_type": "code",
      "source": [
        "print(a)"
      ],
      "metadata": {
        "id": "LDaUo5Ba-uLX",
        "outputId": "9b4fca13-dda3-4986-b59a-081ae94f3f9e",
        "colab": {
          "base_uri": "https://localhost:8080/"
        }
      },
      "execution_count": null,
      "outputs": [
        {
          "output_type": "stream",
          "name": "stdout",
          "text": [
            "1\n"
          ]
        }
      ]
    },
    {
      "cell_type": "code",
      "source": [
        "print(type(a))"
      ],
      "metadata": {
        "id": "KWw4eyyA-xx5",
        "outputId": "a6dad93d-09d5-40f3-f790-905995dd2d91",
        "colab": {
          "base_uri": "https://localhost:8080/"
        }
      },
      "execution_count": null,
      "outputs": [
        {
          "output_type": "stream",
          "name": "stdout",
          "text": [
            "<class 'int'>\n"
          ]
        }
      ]
    },
    {
      "cell_type": "code",
      "source": [
        "d= 1.5\n",
        "print(type(d))"
      ],
      "metadata": {
        "id": "BW2p--VD_ZXJ",
        "outputId": "9ac58b9e-e6a5-4fbb-b947-67887aa757d1",
        "colab": {
          "base_uri": "https://localhost:8080/"
        }
      },
      "execution_count": null,
      "outputs": [
        {
          "output_type": "stream",
          "name": "stdout",
          "text": [
            "<class 'float'>\n"
          ]
        }
      ]
    },
    {
      "cell_type": "code",
      "source": [
        "d= 4\n",
        "print(type(d))"
      ],
      "metadata": {
        "id": "xFhQdN13_gKE",
        "outputId": "a3b6926d-eb5a-4d19-92d2-a99e5d5ed848",
        "colab": {
          "base_uri": "https://localhost:8080/"
        }
      },
      "execution_count": null,
      "outputs": [
        {
          "output_type": "stream",
          "name": "stdout",
          "text": [
            "<class 'int'>\n"
          ]
        }
      ]
    },
    {
      "cell_type": "code",
      "source": [
        "e = 1.0\n",
        "print(type(e))"
      ],
      "metadata": {
        "id": "0cy5RDIp_s6U",
        "outputId": "0e4cfb91-d779-4947-8a83-33482bca1310",
        "colab": {
          "base_uri": "https://localhost:8080/"
        }
      },
      "execution_count": null,
      "outputs": [
        {
          "output_type": "stream",
          "name": "stdout",
          "text": [
            "<class 'float'>\n"
          ]
        }
      ]
    },
    {
      "cell_type": "markdown",
      "source": [
        "Strings - single quote, double quote\n",
        "숫자를 적더라도 quote면 string!!"
      ],
      "metadata": {
        "id": "1W7XCetXALW1"
      }
    },
    {
      "cell_type": "code",
      "source": [
        "f = '555'\n",
        "print(type(f))"
      ],
      "metadata": {
        "id": "LrqichFgAM3q",
        "outputId": "ee334817-045f-48cc-a8d1-9ac14e5ae15c",
        "colab": {
          "base_uri": "https://localhost:8080/"
        }
      },
      "execution_count": null,
      "outputs": [
        {
          "output_type": "stream",
          "name": "stdout",
          "text": [
            "<class 'str'>\n"
          ]
        }
      ]
    },
    {
      "cell_type": "code",
      "source": [
        "g = 'hello'\n",
        "print(type(g))"
      ],
      "metadata": {
        "id": "gSCRGB0XA_oS",
        "outputId": "3a8c2c89-144b-40c0-dd13-867f46bc8269",
        "colab": {
          "base_uri": "https://localhost:8080/"
        }
      },
      "execution_count": null,
      "outputs": [
        {
          "output_type": "stream",
          "name": "stdout",
          "text": [
            "<class 'str'>\n"
          ]
        }
      ]
    },
    {
      "cell_type": "markdown",
      "source": [
        "List - 대괄호로 표시!! / List 안에 List 가능!!"
      ],
      "metadata": {
        "id": "oI49QJppCGL9"
      }
    },
    {
      "cell_type": "code",
      "source": [
        "h = [1, a, 2, 5]\n",
        "print(type(h))"
      ],
      "metadata": {
        "id": "7QDeNyutCHQ-",
        "outputId": "ec43af54-88c6-41e2-f509-cd4e4f200aaa",
        "colab": {
          "base_uri": "https://localhost:8080/"
        }
      },
      "execution_count": null,
      "outputs": [
        {
          "output_type": "stream",
          "name": "stdout",
          "text": [
            "<class 'list'>\n"
          ]
        }
      ]
    },
    {
      "cell_type": "code",
      "source": [
        "i = [1, 3, [4,5,a]]\n",
        "print(type(i))"
      ],
      "metadata": {
        "id": "TkjdOt71CRCK",
        "outputId": "b15cd72d-f894-4a75-8831-1b36ad87bc7b",
        "colab": {
          "base_uri": "https://localhost:8080/"
        }
      },
      "execution_count": null,
      "outputs": [
        {
          "output_type": "stream",
          "name": "stdout",
          "text": [
            "<class 'list'>\n"
          ]
        }
      ]
    },
    {
      "cell_type": "markdown",
      "source": [
        "List의 Indexing!!\n",
        "제일 마지막 줄에 있는 것은 print 안써도 print의 효과!!"
      ],
      "metadata": {
        "id": "mOXyyP70mh68"
      }
    },
    {
      "cell_type": "code",
      "source": [
        "print(h[0])"
      ],
      "metadata": {
        "colab": {
          "base_uri": "https://localhost:8080/"
        },
        "id": "_FvJOJ_jmlBi",
        "outputId": "37e9dfa4-eb51-4ec5-ec0b-5f5b3547cef0"
      },
      "execution_count": null,
      "outputs": [
        {
          "output_type": "stream",
          "name": "stdout",
          "text": [
            "1\n"
          ]
        }
      ]
    },
    {
      "cell_type": "markdown",
      "source": [
        "python은 0부터 시작 !"
      ],
      "metadata": {
        "id": "CLunuuIYnU1N"
      }
    },
    {
      "cell_type": "code",
      "source": [
        "h[3]"
      ],
      "metadata": {
        "colab": {
          "base_uri": "https://localhost:8080/"
        },
        "id": "RYEYoMILnXrJ",
        "outputId": "cdf14f15-6c1e-4602-c3c5-7c95239d956a"
      },
      "execution_count": null,
      "outputs": [
        {
          "output_type": "execute_result",
          "data": {
            "text/plain": [
              "5"
            ]
          },
          "metadata": {},
          "execution_count": 18
        }
      ]
    },
    {
      "cell_type": "code",
      "source": [
        "a = [1, 2, 3, 4, 5, 6, 7, 8, 9, 10]\n",
        "a[:]"
      ],
      "metadata": {
        "colab": {
          "base_uri": "https://localhost:8080/"
        },
        "id": "hpwy1iNVo6bO",
        "outputId": "581cde10-b247-49ea-d833-3ab921618cf8"
      },
      "execution_count": null,
      "outputs": [
        {
          "output_type": "execute_result",
          "data": {
            "text/plain": [
              "[1, 2, 3, 4, 5, 6, 7, 8, 9, 10]"
            ]
          },
          "metadata": {},
          "execution_count": 20
        }
      ]
    },
    {
      "cell_type": "markdown",
      "source": [
        ":는 전체를 의미 / \n",
        "-1은 마지막!!"
      ],
      "metadata": {
        "id": "5w_MSBdxplTe"
      }
    },
    {
      "cell_type": "code",
      "source": [
        "a[1:-1]"
      ],
      "metadata": {
        "colab": {
          "base_uri": "https://localhost:8080/"
        },
        "id": "vNQJcG1dpJIH",
        "outputId": "b69f912e-ca10-4d44-d42f-3d5cc1fc9646"
      },
      "execution_count": null,
      "outputs": [
        {
          "output_type": "execute_result",
          "data": {
            "text/plain": [
              "[2, 3, 4, 5, 6, 7, 8, 9]"
            ]
          },
          "metadata": {},
          "execution_count": 23
        }
      ]
    },
    {
      "cell_type": "code",
      "source": [
        "a[3:8]"
      ],
      "metadata": {
        "colab": {
          "base_uri": "https://localhost:8080/"
        },
        "id": "37449l04pa9z",
        "outputId": "c85d4b1e-2820-4e2c-e03a-78b16303d8fd"
      },
      "execution_count": null,
      "outputs": [
        {
          "output_type": "execute_result",
          "data": {
            "text/plain": [
              "[4, 5, 6, 7, 8]"
            ]
          },
          "metadata": {},
          "execution_count": 24
        }
      ]
    },
    {
      "cell_type": "code",
      "source": [
        "a[:-1]"
      ],
      "metadata": {
        "colab": {
          "base_uri": "https://localhost:8080/"
        },
        "id": "6cBgxXmDqvyh",
        "outputId": "3ff982a5-694d-44dc-acd3-b3e0531725aa"
      },
      "execution_count": null,
      "outputs": [
        {
          "output_type": "execute_result",
          "data": {
            "text/plain": [
              "[1, 2, 3, 4, 5, 6, 7, 8, 9]"
            ]
          },
          "metadata": {},
          "execution_count": 25
        }
      ]
    },
    {
      "cell_type": "code",
      "source": [
        "b = [1, 5, ['a', 7]]"
      ],
      "metadata": {
        "id": "Jo8wx5XtrJue"
      },
      "execution_count": null,
      "outputs": []
    },
    {
      "cell_type": "code",
      "source": [
        "print(b[2][1])"
      ],
      "metadata": {
        "colab": {
          "base_uri": "https://localhost:8080/"
        },
        "id": "GHUPL-COrRAE",
        "outputId": "b348ec5d-1e94-47fb-d623-f35b8ba3f216"
      },
      "execution_count": null,
      "outputs": [
        {
          "output_type": "stream",
          "name": "stdout",
          "text": [
            "7\n"
          ]
        }
      ]
    },
    {
      "cell_type": "code",
      "source": [
        "b[2][:]"
      ],
      "metadata": {
        "colab": {
          "base_uri": "https://localhost:8080/"
        },
        "id": "PqfurD2CrpQM",
        "outputId": "a67c96eb-8d3f-4f99-cc09-c862f52b7f09"
      },
      "execution_count": null,
      "outputs": [
        {
          "output_type": "execute_result",
          "data": {
            "text/plain": [
              "['a', 7]"
            ]
          },
          "metadata": {},
          "execution_count": 31
        }
      ]
    },
    {
      "cell_type": "code",
      "source": [
        "b[2][:2]"
      ],
      "metadata": {
        "colab": {
          "base_uri": "https://localhost:8080/"
        },
        "id": "fzrfxM_Br0rQ",
        "outputId": "844c2f97-ee74-4cc8-bc0c-3d6a1a75a666"
      },
      "execution_count": null,
      "outputs": [
        {
          "output_type": "execute_result",
          "data": {
            "text/plain": [
              "['a', 7]"
            ]
          },
          "metadata": {},
          "execution_count": 32
        }
      ]
    },
    {
      "cell_type": "code",
      "source": [
        "a = 'larry1999'"
      ],
      "metadata": {
        "id": "6ZjInos9s3Lz"
      },
      "execution_count": null,
      "outputs": []
    },
    {
      "cell_type": "code",
      "source": [
        "a[2:-1]"
      ],
      "metadata": {
        "colab": {
          "base_uri": "https://localhost:8080/",
          "height": 36
        },
        "id": "hknNZxlVs69U",
        "outputId": "f3ee4585-47fb-4a11-c46a-2c840fa9f477"
      },
      "execution_count": null,
      "outputs": [
        {
          "output_type": "execute_result",
          "data": {
            "text/plain": [
              "'rry199'"
            ],
            "application/vnd.google.colaboratory.intrinsic+json": {
              "type": "string"
            }
          },
          "metadata": {},
          "execution_count": 38
        }
      ]
    },
    {
      "cell_type": "code",
      "source": [
        "a[:-1]"
      ],
      "metadata": {
        "colab": {
          "base_uri": "https://localhost:8080/",
          "height": 36
        },
        "id": "-XZ0YYVUtbh0",
        "outputId": "59dd9553-6609-4d5b-f5f6-a4756d1e2755"
      },
      "execution_count": null,
      "outputs": [
        {
          "output_type": "execute_result",
          "data": {
            "text/plain": [
              "'larry199'"
            ],
            "application/vnd.google.colaboratory.intrinsic+json": {
              "type": "string"
            }
          },
          "metadata": {},
          "execution_count": 39
        }
      ]
    },
    {
      "cell_type": "markdown",
      "source": [
        "List = Tuple / \n",
        "Tuple은 내부의 변수를 바꾸지 못함, 변수끼리 더하는 것은 가능"
      ],
      "metadata": {
        "id": "_t7wp7IKt_j2"
      }
    },
    {
      "cell_type": "code",
      "source": [
        "a = [5,6,7]\n",
        "a[2]\n",
        "a[2] = 5\n",
        "print(a)"
      ],
      "metadata": {
        "colab": {
          "base_uri": "https://localhost:8080/"
        },
        "id": "iEjF9vINu38k",
        "outputId": "c56a36b6-c8be-496c-8186-1dec59a6acfd"
      },
      "execution_count": null,
      "outputs": [
        {
          "output_type": "stream",
          "name": "stdout",
          "text": [
            "[5, 6, 5]\n"
          ]
        }
      ]
    },
    {
      "cell_type": "code",
      "source": [
        " b = (1,2,3)"
      ],
      "metadata": {
        "id": "9jFurmGCuDII"
      },
      "execution_count": null,
      "outputs": []
    },
    {
      "cell_type": "code",
      "source": [
        "b[0]"
      ],
      "metadata": {
        "colab": {
          "base_uri": "https://localhost:8080/"
        },
        "id": "nEDjizlcupB5",
        "outputId": "28541e9a-6c43-445d-ebcb-b165baa677ea"
      },
      "execution_count": null,
      "outputs": [
        {
          "output_type": "execute_result",
          "data": {
            "text/plain": [
              "1"
            ]
          },
          "metadata": {},
          "execution_count": 41
        }
      ]
    },
    {
      "cell_type": "code",
      "source": [
        "b[0] = 2"
      ],
      "metadata": {
        "colab": {
          "base_uri": "https://localhost:8080/",
          "height": 176
        },
        "id": "g672lyn1uu-x",
        "outputId": "00827860-ad71-46d0-f2aa-ebec6f7d4f50"
      },
      "execution_count": null,
      "outputs": [
        {
          "output_type": "error",
          "ename": "TypeError",
          "evalue": "ignored",
          "traceback": [
            "\u001b[0;31m---------------------------------------------------------------------------\u001b[0m",
            "\u001b[0;31mTypeError\u001b[0m                                 Traceback (most recent call last)",
            "\u001b[0;32m<ipython-input-42-88fa4ba0b30d>\u001b[0m in \u001b[0;36m<module>\u001b[0;34m()\u001b[0m\n\u001b[0;32m----> 1\u001b[0;31m \u001b[0mb\u001b[0m\u001b[0;34m[\u001b[0m\u001b[0;36m0\u001b[0m\u001b[0;34m]\u001b[0m \u001b[0;34m=\u001b[0m \u001b[0;36m2\u001b[0m\u001b[0;34m\u001b[0m\u001b[0;34m\u001b[0m\u001b[0m\n\u001b[0m",
            "\u001b[0;31mTypeError\u001b[0m: 'tuple' object does not support item assignment"
          ]
        }
      ]
    },
    {
      "cell_type": "markdown",
      "source": [
        "Dict - key / value , 중괄호로 표현 - database 만드는 것에 좋음 / key에 number, string 상관 없음"
      ],
      "metadata": {
        "id": "8vm0JASHw0NQ"
      }
    },
    {
      "cell_type": "code",
      "source": [
        "c = {'a':'boy', 'b':'girl', 123:'human', 456:567}"
      ],
      "metadata": {
        "id": "Kota-ZPyw4Tl"
      },
      "execution_count": 2,
      "outputs": []
    },
    {
      "cell_type": "code",
      "source": [
        "c['a']"
      ],
      "metadata": {
        "colab": {
          "base_uri": "https://localhost:8080/",
          "height": 36
        },
        "id": "qxY6lY9cxQT2",
        "outputId": "6d4718e5-deaa-48bc-9a38-804b76cfaa92"
      },
      "execution_count": 3,
      "outputs": [
        {
          "output_type": "execute_result",
          "data": {
            "text/plain": [
              "'boy'"
            ],
            "application/vnd.google.colaboratory.intrinsic+json": {
              "type": "string"
            }
          },
          "metadata": {},
          "execution_count": 3
        }
      ]
    },
    {
      "cell_type": "code",
      "source": [
        "print(c[123])"
      ],
      "metadata": {
        "colab": {
          "base_uri": "https://localhost:8080/"
        },
        "id": "0jqGtKcExiVd",
        "outputId": "0c723e22-1cb1-48de-e886-81f467aee594"
      },
      "execution_count": null,
      "outputs": [
        {
          "output_type": "stream",
          "name": "stdout",
          "text": [
            "human\n"
          ]
        }
      ]
    },
    {
      "cell_type": "code",
      "source": [
        "c[456]"
      ],
      "metadata": {
        "colab": {
          "base_uri": "https://localhost:8080/"
        },
        "id": "e8nTVjKgx-Qj",
        "outputId": "301e53fc-b5f9-4343-a2c1-6677c633547c"
      },
      "execution_count": null,
      "outputs": [
        {
          "output_type": "execute_result",
          "data": {
            "text/plain": [
              "567"
            ]
          },
          "metadata": {},
          "execution_count": 59
        }
      ]
    },
    {
      "cell_type": "code",
      "source": [
        "print(c['a']) ; print(c['b'])"
      ],
      "metadata": {
        "colab": {
          "base_uri": "https://localhost:8080/"
        },
        "id": "xy2g20RoyrQv",
        "outputId": "d029022a-391c-492b-bd44-4089dc84882f"
      },
      "execution_count": null,
      "outputs": [
        {
          "output_type": "stream",
          "name": "stdout",
          "text": [
            "boy\n",
            "girl\n"
          ]
        }
      ]
    },
    {
      "cell_type": "markdown",
      "source": [
        "여러 개 나열할 때는 semicolon, comma 아님!!"
      ],
      "metadata": {
        "id": "Ws7kRg9ZzBGG"
      }
    },
    {
      "cell_type": "code",
      "source": [
        "a = 'larry1999'"
      ],
      "metadata": {
        "id": "ZEUaE-qK_a_j"
      },
      "execution_count": null,
      "outputs": []
    },
    {
      "cell_type": "markdown",
      "source": [
        "len = length = string의 길이"
      ],
      "metadata": {
        "id": "B4aG6klUFAn2"
      }
    },
    {
      "cell_type": "code",
      "source": [
        "len(a)"
      ],
      "metadata": {
        "colab": {
          "base_uri": "https://localhost:8080/"
        },
        "id": "Mdz7NNBrE3x1",
        "outputId": "fc496807-44d1-485e-8e8d-5842b64ef3d2"
      },
      "execution_count": null,
      "outputs": [
        {
          "output_type": "execute_result",
          "data": {
            "text/plain": [
              "9"
            ]
          },
          "metadata": {},
          "execution_count": 69
        }
      ]
    },
    {
      "cell_type": "code",
      "source": [
        "a[0] + a[2] + a[7]*10"
      ],
      "metadata": {
        "colab": {
          "base_uri": "https://localhost:8080/",
          "height": 36
        },
        "id": "QnYy90gjFHaa",
        "outputId": "1e435676-9bcd-4ac5-9ae9-202ac6468c79"
      },
      "execution_count": null,
      "outputs": [
        {
          "output_type": "execute_result",
          "data": {
            "text/plain": [
              "'lr9999999999'"
            ],
            "application/vnd.google.colaboratory.intrinsic+json": {
              "type": "string"
            }
          },
          "metadata": {},
          "execution_count": 71
        }
      ]
    },
    {
      "cell_type": "code",
      "source": [
        "a.upper()"
      ],
      "metadata": {
        "colab": {
          "base_uri": "https://localhost:8080/",
          "height": 36
        },
        "id": "HUZjFHJsGoTB",
        "outputId": "1b7b52d5-cad7-4fa3-f844-9651ffbb4e3e"
      },
      "execution_count": null,
      "outputs": [
        {
          "output_type": "execute_result",
          "data": {
            "text/plain": [
              "'LARRY1999'"
            ],
            "application/vnd.google.colaboratory.intrinsic+json": {
              "type": "string"
            }
          },
          "metadata": {},
          "execution_count": 72
        }
      ]
    },
    {
      "cell_type": "code",
      "source": [
        "a = 'I am a boy'\n",
        "a"
      ],
      "metadata": {
        "colab": {
          "base_uri": "https://localhost:8080/",
          "height": 36
        },
        "id": "1GOIOEvzGszd",
        "outputId": "5ed6e28e-17d9-45c4-c2b8-1c50d3eb52c1"
      },
      "execution_count": null,
      "outputs": [
        {
          "output_type": "execute_result",
          "data": {
            "text/plain": [
              "'I am a boy'"
            ],
            "application/vnd.google.colaboratory.intrinsic+json": {
              "type": "string"
            }
          },
          "metadata": {},
          "execution_count": 100
        }
      ]
    },
    {
      "cell_type": "code",
      "source": [
        "result = a.find('boy')\n",
        "result"
      ],
      "metadata": {
        "colab": {
          "base_uri": "https://localhost:8080/"
        },
        "id": "ojlZ1nWhHRyy",
        "outputId": "ef13fa15-ebed-4ccf-cf85-ff1eb7c97135"
      },
      "execution_count": null,
      "outputs": [
        {
          "output_type": "execute_result",
          "data": {
            "text/plain": [
              "7"
            ]
          },
          "metadata": {},
          "execution_count": 101
        }
      ]
    },
    {
      "cell_type": "code",
      "source": [
        "result = a.find('am')\n",
        "result"
      ],
      "metadata": {
        "colab": {
          "base_uri": "https://localhost:8080/"
        },
        "id": "kWuPnkVSHgrV",
        "outputId": "2ae333a7-ebb2-4215-d3e1-014ad059f284"
      },
      "execution_count": null,
      "outputs": [
        {
          "output_type": "execute_result",
          "data": {
            "text/plain": [
              "2"
            ]
          },
          "metadata": {},
          "execution_count": 102
        }
      ]
    },
    {
      "cell_type": "code",
      "source": [
        "a.strip()"
      ],
      "metadata": {
        "colab": {
          "base_uri": "https://localhost:8080/",
          "height": 36
        },
        "id": "_auTHLccICwD",
        "outputId": "2501ecbd-d289-40c3-b76b-37dc43a18495"
      },
      "execution_count": null,
      "outputs": [
        {
          "output_type": "execute_result",
          "data": {
            "text/plain": [
              "'I am a boy'"
            ],
            "application/vnd.google.colaboratory.intrinsic+json": {
              "type": "string"
            }
          },
          "metadata": {},
          "execution_count": 103
        }
      ]
    },
    {
      "cell_type": "markdown",
      "source": [
        "strip - 주변에 whitespace가 달려 있으면 지워라!! 중간 말고 양 끝 whitespace 정도 / 지저분한 것 없애줌"
      ],
      "metadata": {
        "id": "PElMoCH_UHLs"
      }
    },
    {
      "cell_type": "code",
      "source": [
        "a = a.strip()\n",
        "a"
      ],
      "metadata": {
        "colab": {
          "base_uri": "https://localhost:8080/",
          "height": 36
        },
        "id": "hCtg9YSqJBtw",
        "outputId": "555cab4f-a10d-47bd-b59f-0a1bd6958300"
      },
      "execution_count": null,
      "outputs": [
        {
          "output_type": "execute_result",
          "data": {
            "text/plain": [
              "'I am a boy'"
            ],
            "application/vnd.google.colaboratory.intrinsic+json": {
              "type": "string"
            }
          },
          "metadata": {},
          "execution_count": 105
        }
      ]
    },
    {
      "cell_type": "markdown",
      "source": [
        "split / join / replace function"
      ],
      "metadata": {
        "id": "se8ueuM9J0Lr"
      }
    },
    {
      "cell_type": "markdown",
      "source": [
        "Split"
      ],
      "metadata": {
        "id": "x4q2pHg-J4Ym"
      }
    },
    {
      "cell_type": "code",
      "source": [
        "a = 'I am a boy'"
      ],
      "metadata": {
        "id": "KIZRd_e-KNRH"
      },
      "execution_count": null,
      "outputs": []
    },
    {
      "cell_type": "code",
      "source": [
        "tokens = a.split('a')\n",
        "tokens"
      ],
      "metadata": {
        "colab": {
          "base_uri": "https://localhost:8080/"
        },
        "id": "mydShhdlKDu7",
        "outputId": "012c6368-8e12-422e-b50d-9d14cf68fa46"
      },
      "execution_count": null,
      "outputs": [
        {
          "output_type": "execute_result",
          "data": {
            "text/plain": [
              "['I ', 'm ', ' boy']"
            ]
          },
          "metadata": {},
          "execution_count": 119
        }
      ]
    },
    {
      "cell_type": "markdown",
      "source": [
        "기준으로 쪼개서 list로 만들어라!! ex) 빈 칸 ' '"
      ],
      "metadata": {
        "id": "167NYQzVUuyD"
      }
    },
    {
      "cell_type": "code",
      "source": [
        "tokens = a.split('b')\n",
        "tokens"
      ],
      "metadata": {
        "colab": {
          "base_uri": "https://localhost:8080/"
        },
        "id": "vIJK-rJjLK-D",
        "outputId": "6f7489b3-c2c9-4390-ca1f-5c6ca43548a5"
      },
      "execution_count": null,
      "outputs": [
        {
          "output_type": "execute_result",
          "data": {
            "text/plain": [
              "['I am a ', 'oy']"
            ]
          },
          "metadata": {},
          "execution_count": 124
        }
      ]
    },
    {
      "cell_type": "markdown",
      "source": [
        "Join - 다시 join시켜주는거"
      ],
      "metadata": {
        "id": "hq7FtxeRKnKk"
      }
    },
    {
      "cell_type": "code",
      "source": [
        " a = 'a'.join(tokens)\n",
        " a"
      ],
      "metadata": {
        "colab": {
          "base_uri": "https://localhost:8080/",
          "height": 36
        },
        "id": "eTfUeu0EKoRL",
        "outputId": "208c81c1-5d90-479f-9432-740a17b2b524"
      },
      "execution_count": null,
      "outputs": [
        {
          "output_type": "execute_result",
          "data": {
            "text/plain": [
              "'I am a boy'"
            ],
            "application/vnd.google.colaboratory.intrinsic+json": {
              "type": "string"
            }
          },
          "metadata": {},
          "execution_count": 123
        }
      ]
    },
    {
      "cell_type": "code",
      "source": [
        "a = 'b'.join(tokens)\n",
        "a"
      ],
      "metadata": {
        "colab": {
          "base_uri": "https://localhost:8080/",
          "height": 36
        },
        "id": "dJx1rGcOLRQH",
        "outputId": "eae33d73-858a-41e9-c826-6c56aab9f58e"
      },
      "execution_count": null,
      "outputs": [
        {
          "output_type": "execute_result",
          "data": {
            "text/plain": [
              "'I am a boy'"
            ],
            "application/vnd.google.colaboratory.intrinsic+json": {
              "type": "string"
            }
          },
          "metadata": {},
          "execution_count": 125
        }
      ]
    },
    {
      "cell_type": "markdown",
      "source": [
        "Replace - comma 앞에를 comma 뒤에로 바꿔줘라!!"
      ],
      "metadata": {
        "id": "VADfLQ1wLWtM"
      }
    },
    {
      "cell_type": "code",
      "source": [
        "a = a.replace('am','are')\n",
        "a"
      ],
      "metadata": {
        "colab": {
          "base_uri": "https://localhost:8080/",
          "height": 36
        },
        "id": "RgawvUUqLYse",
        "outputId": "13ddbe3e-7407-4e36-c348-fb7481bcf30a"
      },
      "execution_count": null,
      "outputs": [
        {
          "output_type": "execute_result",
          "data": {
            "text/plain": [
              "'I are a boy'"
            ],
            "application/vnd.google.colaboratory.intrinsic+json": {
              "type": "string"
            }
          },
          "metadata": {},
          "execution_count": 126
        }
      ]
    },
    {
      "cell_type": "code",
      "source": [
        "a = a.replace('boy','girl')\n",
        "a"
      ],
      "metadata": {
        "colab": {
          "base_uri": "https://localhost:8080/",
          "height": 36
        },
        "id": "z50GO8QtLwlS",
        "outputId": "bf551ca9-aac8-471f-b110-411bc0b0073f"
      },
      "execution_count": null,
      "outputs": [
        {
          "output_type": "execute_result",
          "data": {
            "text/plain": [
              "'I are a girl'"
            ],
            "application/vnd.google.colaboratory.intrinsic+json": {
              "type": "string"
            }
          },
          "metadata": {},
          "execution_count": 129
        }
      ]
    },
    {
      "cell_type": "markdown",
      "source": [
        "Function(함수) 만드는 법 : \n",
        "def - define 함수명(입력변수1, 입력변수2) :\n",
        "return 출력변수명 / colon 있어야 함!!"
      ],
      "metadata": {
        "id": "kallQcgXnk3U"
      }
    },
    {
      "cell_type": "code",
      "source": [
        "def add(a,b):\n",
        "    return a+b\n",
        "def subtract(a,b):\n",
        "    return a-b\n",
        "def multiply(a,b):\n",
        "    return a*b\n",
        "def divide(a,b):\n",
        "    return a/b"
      ],
      "metadata": {
        "id": "u-b_Tb-Gnvwk"
      },
      "execution_count": null,
      "outputs": []
    },
    {
      "cell_type": "code",
      "source": [
        "c = add(1,2); print(c)"
      ],
      "metadata": {
        "id": "B_kEnYOvoCaP",
        "outputId": "e282c0bb-ba32-41c9-8cf1-86b13f37af33",
        "colab": {
          "base_uri": "https://localhost:8080/"
        }
      },
      "execution_count": null,
      "outputs": [
        {
          "output_type": "stream",
          "name": "stdout",
          "text": [
            "3\n"
          ]
        }
      ]
    },
    {
      "cell_type": "code",
      "source": [
        "c = subtract(3,5); \n",
        "c"
      ],
      "metadata": {
        "id": "mLkshfIvosRi",
        "outputId": "76e7b851-7d0b-4321-bf4d-9e4bdd28724e",
        "colab": {
          "base_uri": "https://localhost:8080/"
        }
      },
      "execution_count": null,
      "outputs": [
        {
          "output_type": "execute_result",
          "data": {
            "text/plain": [
              "-2"
            ]
          },
          "metadata": {},
          "execution_count": 9
        }
      ]
    },
    {
      "cell_type": "code",
      "source": [
        "c = multiply(5,7);\n",
        "c"
      ],
      "metadata": {
        "id": "WILhI-1Zoxx4",
        "outputId": "4a4e065c-9e0a-489b-9ab0-9d86fac4022c",
        "colab": {
          "base_uri": "https://localhost:8080/"
        }
      },
      "execution_count": null,
      "outputs": [
        {
          "output_type": "execute_result",
          "data": {
            "text/plain": [
              "35"
            ]
          },
          "metadata": {},
          "execution_count": 10
        }
      ]
    },
    {
      "cell_type": "code",
      "source": [
        "c = divide(4,8); \n",
        "c"
      ],
      "metadata": {
        "id": "waighzeCo4Lq",
        "outputId": "e958d1f9-ae54-4f5c-d7d7-c3c50c498f01",
        "colab": {
          "base_uri": "https://localhost:8080/"
        }
      },
      "execution_count": null,
      "outputs": [
        {
          "output_type": "execute_result",
          "data": {
            "text/plain": [
              "0.5"
            ]
          },
          "metadata": {},
          "execution_count": 11
        }
      ]
    },
    {
      "cell_type": "markdown",
      "source": [
        "Syntax - if 조건문 / for 반복문"
      ],
      "metadata": {
        "id": "IB9KuFgbrKw5"
      }
    },
    {
      "cell_type": "markdown",
      "source": [
        "for"
      ],
      "metadata": {
        "id": "GJ2M4XI4rRgo"
      }
    },
    {
      "cell_type": "code",
      "source": [
        "a = [3,4,5,6]\n",
        "for b in a:\n",
        "    print(b)"
      ],
      "metadata": {
        "id": "0Pu7C-T9rOn5",
        "outputId": "f69dc448-492a-4f7f-de86-c7be05b475d2",
        "colab": {
          "base_uri": "https://localhost:8080/"
        }
      },
      "execution_count": null,
      "outputs": [
        {
          "output_type": "stream",
          "name": "stdout",
          "text": [
            "3\n",
            "4\n",
            "5\n",
            "6\n"
          ]
        }
      ]
    },
    {
      "cell_type": "code",
      "source": [
        "a = [3,4,5,6]\n",
        "for i in range(len(a)):\n",
        "    print(a[i])"
      ],
      "metadata": {
        "id": "LEaXklDGtNQd",
        "outputId": "d4e4b771-9914-4de1-81b4-bd7b61f09d24",
        "colab": {
          "base_uri": "https://localhost:8080/"
        }
      },
      "execution_count": null,
      "outputs": [
        {
          "output_type": "stream",
          "name": "stdout",
          "text": [
            "3\n",
            "4\n",
            "5\n",
            "6\n"
          ]
        }
      ]
    },
    {
      "cell_type": "code",
      "source": [
        "a = ['z', 'x', 'c', 'v', 'b']\n",
        "for i in range(len(a)):\n",
        "    print(a[i])"
      ],
      "metadata": {
        "id": "KNSbc1ruuluq",
        "outputId": "01eaf62b-0e9e-4806-b688-fcfb0ac2fb5e",
        "colab": {
          "base_uri": "https://localhost:8080/"
        }
      },
      "execution_count": null,
      "outputs": [
        {
          "output_type": "stream",
          "name": "stdout",
          "text": [
            "z\n",
            "x\n",
            "c\n",
            "v\n",
            "b\n"
          ]
        }
      ]
    },
    {
      "cell_type": "markdown",
      "source": [
        "if"
      ],
      "metadata": {
        "id": "ZkZ0io60xcrM"
      }
    },
    {
      "cell_type": "code",
      "source": [
        "a = 0\n",
        "if a == 0:\n",
        "  print(a)\n",
        "else:\n",
        "  print(a+1) "
      ],
      "metadata": {
        "id": "bAeI8QXMxdbm",
        "outputId": "3799d400-4086-4e0d-d29c-1eb3e8212d80",
        "colab": {
          "base_uri": "https://localhost:8080/"
        }
      },
      "execution_count": null,
      "outputs": [
        {
          "output_type": "stream",
          "name": "stdout",
          "text": [
            "0\n"
          ]
        }
      ]
    },
    {
      "cell_type": "code",
      "source": [
        "a = 0\n",
        "if a !=0:\n",
        "   print(a)\n",
        "else:\n",
        "   print(a+1)"
      ],
      "metadata": {
        "id": "DJEm7OT5yBR7",
        "outputId": "c1d17be3-7ac5-4986-f8b0-de2fda4e8ade",
        "colab": {
          "base_uri": "https://localhost:8080/"
        }
      },
      "execution_count": null,
      "outputs": [
        {
          "output_type": "stream",
          "name": "stdout",
          "text": [
            "1\n"
          ]
        }
      ]
    },
    {
      "cell_type": "markdown",
      "source": [
        "아래 중요!!!!! comprehension 까지!!!!!"
      ],
      "metadata": {
        "id": "GP6GV8Fk0nhm"
      }
    },
    {
      "cell_type": "code",
      "source": [
        "for i in range(1,3):\n",
        "    for j in range(5,7):\n",
        "        print(i/j)"
      ],
      "metadata": {
        "id": "Xhg_61Go0Hq7",
        "outputId": "b359640e-f549-4231-b4d3-a70c28e54248",
        "colab": {
          "base_uri": "https://localhost:8080/"
        }
      },
      "execution_count": null,
      "outputs": [
        {
          "output_type": "stream",
          "name": "stdout",
          "text": [
            "0.2\n",
            "0.16666666666666666\n",
            "0.4\n",
            "0.3333333333333333\n"
          ]
        }
      ]
    },
    {
      "cell_type": "code",
      "source": [
        "for x in range(2,4):\n",
        "    for y in range(4,6):\n",
        "        if y>=5:\n",
        "            print(x+y)\n"
      ],
      "metadata": {
        "id": "2KIDWfSC1H9e",
        "outputId": "85dd34c6-8501-468a-8beb-936d32bf506f",
        "colab": {
          "base_uri": "https://localhost:8080/"
        }
      },
      "execution_count": null,
      "outputs": [
        {
          "output_type": "stream",
          "name": "stdout",
          "text": [
            "7\n",
            "8\n"
          ]
        }
      ]
    },
    {
      "cell_type": "markdown",
      "source": [
        "List comprehension"
      ],
      "metadata": {
        "id": "aXB3ZTfq3dbe"
      }
    },
    {
      "cell_type": "code",
      "source": [
        "a = [1,2,3,4]\n",
        "b = [i for i in a if i >=2]\n",
        "b"
      ],
      "metadata": {
        "id": "RUsvwpvN3iPw",
        "outputId": "c2f1ea80-0c39-4f74-abb3-4e8b00711837",
        "colab": {
          "base_uri": "https://localhost:8080/"
        }
      },
      "execution_count": null,
      "outputs": [
        {
          "output_type": "execute_result",
          "data": {
            "text/plain": [
              "[2, 3, 4]"
            ]
          },
          "metadata": {},
          "execution_count": 35
        }
      ]
    },
    {
      "cell_type": "code",
      "source": [
        "a = ['apple', 'brave', 'casual', 'drug']\n",
        "b = [i for i in a if len(i) >=5]\n",
        "b"
      ],
      "metadata": {
        "id": "NAZLFM0M4Bpx",
        "outputId": "5f0a699e-cb6c-4594-893f-c24bfc039904",
        "colab": {
          "base_uri": "https://localhost:8080/"
        }
      },
      "execution_count": null,
      "outputs": [
        {
          "output_type": "execute_result",
          "data": {
            "text/plain": [
              "['apple', 'brave', 'casual']"
            ]
          },
          "metadata": {},
          "execution_count": 37
        }
      ]
    },
    {
      "cell_type": "markdown",
      "source": [
        "Dict comprehension"
      ],
      "metadata": {
        "id": "RNjTcGM_47jf"
      }
    },
    {
      "cell_type": "code",
      "source": [
        "a = ['red', 'green', 'blue', 'purple']\n",
        "b = [3,4,5,6]\n",
        "c = {a[i]:b[i] for i in range(4)}\n",
        "c"
      ],
      "metadata": {
        "id": "mHt7BzEv49Lo",
        "outputId": "47e3858c-7d3f-4fcd-f1b7-4e128f8b9203",
        "colab": {
          "base_uri": "https://localhost:8080/"
        }
      },
      "execution_count": null,
      "outputs": [
        {
          "output_type": "execute_result",
          "data": {
            "text/plain": [
              "{'blue': 5, 'green': 4, 'purple': 6, 'red': 3}"
            ]
          },
          "metadata": {},
          "execution_count": 38
        }
      ]
    },
    {
      "cell_type": "markdown",
      "source": [
        "install -> 파일 자체를 설치\n",
        "import -> 타인이 만들어놓은 함수를 불러옴 / ram 메모리로 올려놓음\n",
        "built - in -> ex) print, len, ..."
      ],
      "metadata": {
        "id": "DJaHnwY41n6m"
      }
    },
    {
      "cell_type": "code",
      "source": [
        "import numpy"
      ],
      "metadata": {
        "id": "M_zAAjY710ry"
      },
      "execution_count": null,
      "outputs": []
    },
    {
      "cell_type": "code",
      "source": [
        "numpy.random.randn(3)"
      ],
      "metadata": {
        "colab": {
          "base_uri": "https://localhost:8080/"
        },
        "id": "WRkeRuWh2CmL",
        "outputId": "b5285dc3-4477-441a-9e4e-b79891cdc9f4"
      },
      "execution_count": null,
      "outputs": [
        {
          "output_type": "execute_result",
          "data": {
            "text/plain": [
              "array([-0.09217186,  1.72561646, -1.91500867])"
            ]
          },
          "metadata": {},
          "execution_count": 3
        }
      ]
    },
    {
      "cell_type": "code",
      "source": [
        "import numpy as np\n",
        "n = np.random.randn(100)\n",
        "n"
      ],
      "metadata": {
        "colab": {
          "base_uri": "https://localhost:8080/"
        },
        "id": "_bGMjo4s2uR0",
        "outputId": "e369a1b4-296e-4736-8f22-0d757cf13a72"
      },
      "execution_count": null,
      "outputs": [
        {
          "output_type": "execute_result",
          "data": {
            "text/plain": [
              "array([-1.02971925e+00,  1.87656274e-01,  3.68320868e-01, -1.54871842e+00,\n",
              "        1.52393369e+00, -1.29626564e+00,  4.01819742e-01,  5.63930839e-01,\n",
              "       -1.29008487e+00, -1.31291651e+00,  4.94508213e-01, -1.06797379e+00,\n",
              "        1.00211363e+00, -1.24260244e+00,  6.58950229e-01, -7.66386425e-01,\n",
              "       -4.85978287e-01, -4.31795806e-01,  3.31421800e-01, -2.68033706e+00,\n",
              "        4.88205614e-01,  1.74079885e-01, -2.21515827e-02,  1.17764025e+00,\n",
              "        5.03295123e-01, -1.51018945e-01,  2.49395840e-01,  6.61116366e-03,\n",
              "       -5.85939147e-01,  3.11120922e-01, -7.53797873e-01,  1.78791754e-01,\n",
              "       -5.60641483e-01, -6.02616994e-01,  9.21081589e-01, -1.21277858e-01,\n",
              "        2.84284968e+00, -8.40029777e-01,  1.58844794e-01,  3.15394906e-01,\n",
              "        5.60409815e-01,  7.75886443e-01, -5.81537447e-01, -9.10625071e-01,\n",
              "        1.19379568e+00, -2.38760678e+00,  1.00508178e-03,  7.73786247e-01,\n",
              "       -7.88799018e-01,  1.62784295e+00, -6.38648631e-02, -2.56255095e+00,\n",
              "        8.94818692e-01,  1.79759255e+00,  5.03260862e-01, -1.58190825e+00,\n",
              "        1.49826128e-01, -1.90370093e+00,  4.56955140e-01,  5.83749443e-02,\n",
              "        8.12340363e-01, -8.31743543e-01,  3.35224412e-01,  2.15089514e+00,\n",
              "        1.09340184e+00, -5.50517090e-01,  2.06793870e+00, -2.11192534e-01,\n",
              "        1.53844615e+00, -9.85232490e-01, -1.40833924e+00,  1.17638959e-01,\n",
              "        4.14979238e-01, -1.76684034e+00, -1.60719908e+00, -8.32258024e-01,\n",
              "       -8.77043409e-01, -6.12418530e-01, -2.51071946e+00, -9.15600392e-01,\n",
              "       -1.63187224e-01,  2.88558737e-01,  1.29820472e+00,  1.07438702e+00,\n",
              "       -8.28213128e-02,  7.48549795e-01, -1.44731421e-01, -8.55950651e-01,\n",
              "       -8.52260296e-01,  1.45102086e+00,  1.57182789e-01,  1.28254606e+00,\n",
              "       -8.27167143e-01,  5.03180314e-01, -9.85907125e-01, -1.35977554e+00,\n",
              "        1.56597854e+00,  1.35222173e-01,  2.52783877e+00, -6.95573402e-01])"
            ]
          },
          "metadata": {},
          "execution_count": 16
        }
      ]
    },
    {
      "cell_type": "code",
      "source": [
        "import matplotlib"
      ],
      "metadata": {
        "id": "FZy4QF_l3lqz"
      },
      "execution_count": null,
      "outputs": []
    },
    {
      "cell_type": "code",
      "source": [
        "matplotlib.pyplot.hist(n)"
      ],
      "metadata": {
        "colab": {
          "base_uri": "https://localhost:8080/",
          "height": 359
        },
        "id": "akL4YEqF3oqq",
        "outputId": "9b3b1c55-89a9-4299-f773-295c68e141ac"
      },
      "execution_count": null,
      "outputs": [
        {
          "output_type": "execute_result",
          "data": {
            "text/plain": [
              "(array([ 4.,  4.,  9., 22., 12., 25., 11.,  8.,  3.,  2.]),\n",
              " array([-2.68033706, -2.12801839, -1.57569972, -1.02338104, -0.47106237,\n",
              "         0.08125631,  0.63357498,  1.18589366,  1.73821233,  2.290531  ,\n",
              "         2.84284968]),\n",
              " <a list of 10 Patch objects>)"
            ]
          },
          "metadata": {},
          "execution_count": 17
        },
        {
          "output_type": "display_data",
          "data": {
            "text/plain": [
              "<Figure size 432x288 with 1 Axes>"
            ],
            "image/png": "[encoded data removed]"
          },
          "metadata": {
            "needs_background": "light"
          }
        }
      ]
    },
    {
      "cell_type": "code",
      "source": [
        "import matplotlib.pyplot as plt\n",
        "plt.hist(n)"
      ],
      "metadata": {
        "colab": {
          "base_uri": "https://localhost:8080/",
          "height": 359
        },
        "id": "YhLpBKN24iif",
        "outputId": "c98cbd6c-f565-4d67-cfc0-23960c14cabf"
      },
      "execution_count": null,
      "outputs": [
        {
          "output_type": "execute_result",
          "data": {
            "text/plain": [
              "(array([ 4.,  4.,  9., 22., 12., 25., 11.,  8.,  3.,  2.]),\n",
              " array([-2.68033706, -2.12801839, -1.57569972, -1.02338104, -0.47106237,\n",
              "         0.08125631,  0.63357498,  1.18589366,  1.73821233,  2.290531  ,\n",
              "         2.84284968]),\n",
              " <a list of 10 Patch objects>)"
            ]
          },
          "metadata": {},
          "execution_count": 18
        },
        {
          "output_type": "display_data",
          "data": {
            "text/plain": [
              "<Figure size 432x288 with 1 Axes>"
            ],
            "image/png": "[encoded data removed]"
          },
          "metadata": {
            "needs_background": "light"
          }
        }
      ]
    },
    {
      "cell_type": "markdown",
      "source": [
        "from import를 쓰면 import as 처럼 축약해서 부를 수 있는 효과"
      ],
      "metadata": {
        "id": "CKDUNUi45B1m"
      }
    },
    {
      "cell_type": "code",
      "source": [
        "from matplotlib import pyplot\n",
        "pyplot.hist(n)"
      ],
      "metadata": {
        "colab": {
          "base_uri": "https://localhost:8080/",
          "height": 359
        },
        "id": "xu-GdHam5G5w",
        "outputId": "30ae2916-becf-4252-f299-ecba319f7611"
      },
      "execution_count": null,
      "outputs": [
        {
          "output_type": "execute_result",
          "data": {
            "text/plain": [
              "(array([ 4.,  4.,  9., 22., 12., 25., 11.,  8.,  3.,  2.]),\n",
              " array([-2.68033706, -2.12801839, -1.57569972, -1.02338104, -0.47106237,\n",
              "         0.08125631,  0.63357498,  1.18589366,  1.73821233,  2.290531  ,\n",
              "         2.84284968]),\n",
              " <a list of 10 Patch objects>)"
            ]
          },
          "metadata": {},
          "execution_count": 19
        },
        {
          "output_type": "display_data",
          "data": {
            "text/plain": [
              "<Figure size 432x288 with 1 Axes>"
            ],
            "image/png": "[encoded data removed]"
          },
          "metadata": {
            "needs_background": "light"
          }
        }
      ]
    },
    {
      "cell_type": "code",
      "source": [
        "from matplotlib.pyplot import hist\n",
        "hist(n)"
      ],
      "metadata": {
        "colab": {
          "base_uri": "https://localhost:8080/",
          "height": 359
        },
        "id": "nRi_3Qkl5OJ7",
        "outputId": "e75ed81b-89d8-4f4d-b9f6-360a9947a212"
      },
      "execution_count": null,
      "outputs": [
        {
          "output_type": "execute_result",
          "data": {
            "text/plain": [
              "(array([ 4.,  4.,  9., 22., 12., 25., 11.,  8.,  3.,  2.]),\n",
              " array([-2.68033706, -2.12801839, -1.57569972, -1.02338104, -0.47106237,\n",
              "         0.08125631,  0.63357498,  1.18589366,  1.73821233,  2.290531  ,\n",
              "         2.84284968]),\n",
              " <a list of 10 Patch objects>)"
            ]
          },
          "metadata": {},
          "execution_count": 20
        },
        {
          "output_type": "display_data",
          "data": {
            "text/plain": [
              "<Figure size 432x288 with 1 Axes>"
            ],
            "image/png": "[encoded data removed]"
          },
          "metadata": {
            "needs_background": "light"
          }
        }
      ]
    },
    {
      "cell_type": "markdown",
      "source": [
        "create nd arrays (nd = n-dimensional)"
      ],
      "metadata": {
        "id": "LHBzE2Q36q8K"
      }
    },
    {
      "cell_type": "code",
      "source": [
        "import numpy as np"
      ],
      "metadata": {
        "id": "_9ZzBszN7UDA"
      },
      "execution_count": null,
      "outputs": []
    },
    {
      "cell_type": "code",
      "source": [
        "x = np.array([1,2,3])\n",
        "print(x)\n",
        "print(type(x))\n",
        "print(x.shape)"
      ],
      "metadata": {
        "colab": {
          "base_uri": "https://localhost:8080/"
        },
        "id": "Tno8DRaa7WNL",
        "outputId": "e6ff1b4e-052f-4c8a-940c-f92522e2b886"
      },
      "execution_count": null,
      "outputs": [
        {
          "output_type": "stream",
          "name": "stdout",
          "text": [
            "[1 2 3]\n",
            "<class 'numpy.ndarray'>\n",
            "(3,)\n"
          ]
        }
      ]
    },
    {
      "cell_type": "markdown",
      "source": [
        "a range - 8 포함 x"
      ],
      "metadata": {
        "id": "dLa4_qoZ8ekO"
      }
    },
    {
      "cell_type": "code",
      "source": [
        "x = np.arange(0,8,2)\n",
        "print(x)\n",
        "print(type(x))\n",
        "print(x.shape)"
      ],
      "metadata": {
        "colab": {
          "base_uri": "https://localhost:8080/"
        },
        "id": "rQFVdhKe8CtC",
        "outputId": "c80a27d3-ae07-4543-e00c-c0f1f000a65a"
      },
      "execution_count": null,
      "outputs": [
        {
          "output_type": "stream",
          "name": "stdout",
          "text": [
            "[0 2 4 6]\n",
            "<class 'numpy.ndarray'>\n",
            "(4,)\n"
          ]
        }
      ]
    },
    {
      "cell_type": "markdown",
      "source": [
        "linspace - 8 포함 o"
      ],
      "metadata": {
        "id": "XmnFJbPk8jHl"
      }
    },
    {
      "cell_type": "code",
      "source": [
        "x = np.linspace(0,8,6)\n",
        "print(x)\n",
        "print(type(x))\n",
        "print(x.shape)"
      ],
      "metadata": {
        "colab": {
          "base_uri": "https://localhost:8080/"
        },
        "id": "1dOPbAqN8rNo",
        "outputId": "9bac4ae1-7515-4d90-86d7-28bc1f18ab23"
      },
      "execution_count": null,
      "outputs": [
        {
          "output_type": "stream",
          "name": "stdout",
          "text": [
            "[0.  1.6 3.2 4.8 6.4 8. ]\n",
            "<class 'numpy.ndarray'>\n",
            "(6,)\n"
          ]
        }
      ]
    },
    {
      "cell_type": "code",
      "source": [
        " x = np.array([[1,2,3], [4,5,6]])\n",
        " print(x)\n",
        " print(type(x))\n",
        " print(x.shape)"
      ],
      "metadata": {
        "colab": {
          "base_uri": "https://localhost:8080/"
        },
        "id": "GFO8sgWL94d6",
        "outputId": "9ad71e90-638f-4965-918f-1e51b7b879c1"
      },
      "execution_count": null,
      "outputs": [
        {
          "output_type": "stream",
          "name": "stdout",
          "text": [
            "[[1 2 3]\n",
            " [4 5 6]]\n",
            "<class 'numpy.ndarray'>\n",
            "(2, 3)\n"
          ]
        }
      ]
    },
    {
      "cell_type": "markdown",
      "source": [
        "[ ] 대괄호의 개수 -> dimension 파악 가능!!"
      ],
      "metadata": {
        "id": "nFIgsY1n-fPT"
      }
    },
    {
      "cell_type": "code",
      "source": [
        "x = np.array([[[1,2,3,4], [4,5,6,7],[7,8,9,10]], [[7,8,9,10], [10,11,12,13], [13,14,15,16]]])\n",
        "print(x)\n",
        "print(type(x))\n",
        "print(x.shape)"
      ],
      "metadata": {
        "colab": {
          "base_uri": "https://localhost:8080/"
        },
        "id": "EzM1Q2rk-lCy",
        "outputId": "429f056b-8782-4aeb-b304-4d2f476a3146"
      },
      "execution_count": null,
      "outputs": [
        {
          "output_type": "stream",
          "name": "stdout",
          "text": [
            "[[[ 1  2  3  4]\n",
            "  [ 4  5  6  7]\n",
            "  [ 7  8  9 10]]\n",
            "\n",
            " [[ 7  8  9 10]\n",
            "  [10 11 12 13]\n",
            "  [13 14 15 16]]]\n",
            "<class 'numpy.ndarray'>\n",
            "(2, 3, 4)\n"
          ]
        }
      ]
    },
    {
      "cell_type": "code",
      "source": [
        "x = np.array([[[1,2], [2,3], [3,4], [4,5]], [[5,6], [7,8], [8,9], [9,10]]])\n",
        "print(x)\n",
        "print(type(x))\n",
        "print(x.shape)\n"
      ],
      "metadata": {
        "colab": {
          "base_uri": "https://localhost:8080/"
        },
        "id": "iY64g-v-_r5I",
        "outputId": "fca86b7a-3831-4ff3-d746-b9e0ea1c588d"
      },
      "execution_count": null,
      "outputs": [
        {
          "output_type": "stream",
          "name": "stdout",
          "text": [
            "[[[ 1  2]\n",
            "  [ 2  3]\n",
            "  [ 3  4]\n",
            "  [ 4  5]]\n",
            "\n",
            " [[ 5  6]\n",
            "  [ 7  8]\n",
            "  [ 8  9]\n",
            "  [ 9 10]]]\n",
            "<class 'numpy.ndarray'>\n",
            "(2, 4, 2)\n"
          ]
        }
      ]
    },
    {
      "cell_type": "code",
      "source": [
        " x = np.ones([2,2,3])\n",
        " print(x)\n",
        " print(type(x))\n",
        " print(x.shape)"
      ],
      "metadata": {
        "colab": {
          "base_uri": "https://localhost:8080/"
        },
        "id": "9uuyOz7wjdqD",
        "outputId": "c221ab87-224e-4c11-b531-3970c0c5371c"
      },
      "execution_count": null,
      "outputs": [
        {
          "output_type": "stream",
          "name": "stdout",
          "text": [
            "[[[1. 1. 1.]\n",
            "  [1. 1. 1.]]\n",
            "\n",
            " [[1. 1. 1.]\n",
            "  [1. 1. 1.]]]\n",
            "<class 'numpy.ndarray'>\n",
            "(2, 2, 3)\n"
          ]
        }
      ]
    },
    {
      "cell_type": "code",
      "source": [
        "x = np.zeros([3,3,3])\n",
        "print(x)\n",
        "print(type(x))\n",
        "print(x.shape)"
      ],
      "metadata": {
        "colab": {
          "base_uri": "https://localhost:8080/"
        },
        "id": "Yeqdph0IkJ0A",
        "outputId": "43d7bfe1-f902-45a0-e9c5-42f1b32e1207"
      },
      "execution_count": null,
      "outputs": [
        {
          "output_type": "stream",
          "name": "stdout",
          "text": [
            "[[[0. 0. 0.]\n",
            "  [0. 0. 0.]\n",
            "  [0. 0. 0.]]\n",
            "\n",
            " [[0. 0. 0.]\n",
            "  [0. 0. 0.]\n",
            "  [0. 0. 0.]]\n",
            "\n",
            " [[0. 0. 0.]\n",
            "  [0. 0. 0.]\n",
            "  [0. 0. 0.]]]\n",
            "<class 'numpy.ndarray'>\n",
            "(3, 3, 3)\n"
          ]
        }
      ]
    },
    {
      "cell_type": "markdown",
      "source": [
        "create random numbers"
      ],
      "metadata": {
        "id": "0jg29Cv3krjI"
      }
    },
    {
      "cell_type": "markdown",
      "source": [
        "np.random.normal -> normal distribution"
      ],
      "metadata": {
        "id": "bpni02ILkyuI"
      }
    },
    {
      "cell_type": "code",
      "source": [
        "np.random.normal(0,1, [2,2,3])"
      ],
      "metadata": {
        "colab": {
          "base_uri": "https://localhost:8080/"
        },
        "id": "MgvWRinSk2Zx",
        "outputId": "0b05a66d-646d-4525-ffb9-068deac8a174"
      },
      "execution_count": null,
      "outputs": [
        {
          "output_type": "execute_result",
          "data": {
            "text/plain": [
              "array([[[-0.39507419, -0.89995077, -0.55047285],\n",
              "        [-0.37540147, -1.67931111,  1.3938216 ]],\n",
              "\n",
              "       [[ 0.30823783, -1.64408275, -0.84237498],\n",
              "        [-1.75017114,  1.33054608,  0.4158998 ]]])"
            ]
          },
          "metadata": {},
          "execution_count": 11
        }
      ]
    },
    {
      "cell_type": "code",
      "source": [
        "import matplotlib.pyplot as plt"
      ],
      "metadata": {
        "id": "202wb4qim656"
      },
      "execution_count": null,
      "outputs": []
    },
    {
      "cell_type": "code",
      "source": [
        "x = np.random.normal(0,1,100)\n",
        "print(x)\n",
        "plt.hist(x, bins=10)"
      ],
      "metadata": {
        "colab": {
          "base_uri": "https://localhost:8080/",
          "height": 676
        },
        "id": "xq5d-DcMmIPb",
        "outputId": "fbd8e7d5-3b4e-4353-a535-89acab249919"
      },
      "execution_count": null,
      "outputs": [
        {
          "output_type": "stream",
          "name": "stdout",
          "text": [
            "[ 1.68582182  1.37111327 -0.00555902  1.50244601  0.11614276  0.67563876\n",
            "  0.62958903 -0.79686915  0.905841   -0.39826627 -1.67942502  1.44551555\n",
            "  0.17851899  1.19020076  0.14023559  0.0595805  -0.07062286  1.57207594\n",
            " -2.161168   -1.2798888   0.83710237  0.14589798 -1.06992524  1.47642908\n",
            "  0.56429213  1.35179711  0.43851953 -1.04383964 -0.46119585 -0.32281289\n",
            " -0.20130127 -0.73818561  0.21921398 -0.71056911  0.31298659 -0.40123145\n",
            "  1.5285935   1.51745004 -0.66920383  0.07248405 -0.29299741  0.85075266\n",
            "  0.93365061 -2.27421942 -2.26936451  1.83123033 -1.28105456  0.8634464\n",
            "  1.79848421 -0.27425064  0.50508104  0.93304817  0.18636837  1.37251269\n",
            "  0.16471716 -0.70724619  0.0906826   1.39886687 -0.83527604 -0.98838232\n",
            "  2.89503322 -0.49164948  0.98246121 -0.82335439  0.06105573  0.42436796\n",
            "  0.58678462  1.03714416  1.57047863 -0.11854022  0.86902434 -0.43917494\n",
            "  0.72342372  0.09822125  0.64103131  1.02424125 -0.17537837 -0.71208879\n",
            "  1.44054249  0.50193503 -0.4709843   0.73754742 -2.44837986  1.19177105\n",
            " -2.42427817  1.15668458 -0.93991621  0.1181973   0.02391733  0.30225964\n",
            "  0.06932408 -1.47220791  0.07001244  0.83704938 -1.58901092 -0.3261959\n",
            " -0.76792753  1.41909638  0.67189476  1.54627399]\n"
          ]
        },
        {
          "output_type": "execute_result",
          "data": {
            "text/plain": [
              "(array([ 5.,  3.,  6., 17., 23., 14., 14., 16.,  1.,  1.]),\n",
              " array([-2.44837986, -1.91403855, -1.37969724, -0.84535593, -0.31101463,\n",
              "         0.22332668,  0.75766799,  1.2920093 ,  1.82635061,  2.36069191,\n",
              "         2.89503322]),\n",
              " <a list of 10 Patch objects>)"
            ]
          },
          "metadata": {},
          "execution_count": 27
        },
        {
          "output_type": "display_data",
          "data": {
            "text/plain": [
              "<Figure size 432x288 with 1 Axes>"
            ],
            "image/png": "[encoded data removed]"
          },
          "metadata": {
            "needs_background": "light"
          }
        }
      ]
    },
    {
      "cell_type": "markdown",
      "source": [
        "generate a sine curve"
      ],
      "metadata": {
        "id": "E2vS7I_AnWqm"
      }
    },
    {
      "cell_type": "code",
      "source": [
        "plt.figure()\n",
        "\n",
        "theta1 = np.linspace(0,2*np.pi,100)\n",
        "s1 = np.sin(theta1)\n",
        "theta2 = np.linspace(0,2*np.pi,100) + np.pi/2\n",
        "s2 = np.sin(theta2)\n",
        "\n",
        "plt.subplot(2,1,1) # (rows, columns, panel number)\n",
        "plt.plot(theta1, s1, '.')\n",
        "plt.subplot(2,1,2) # (rows, columns, panel number)\n",
        "plt.plot(theta2, s2, '.')"
      ],
      "metadata": {
        "colab": {
          "base_uri": "https://localhost:8080/",
          "height": 284
        },
        "id": "k1q2sbpVn3nQ",
        "outputId": "6374fea3-957a-40ed-9082-be2f5c100e54"
      },
      "execution_count": null,
      "outputs": [
        {
          "output_type": "execute_result",
          "data": {
            "text/plain": [
              "[<matplotlib.lines.Line2D at 0x7f338c50b690>]"
            ]
          },
          "metadata": {},
          "execution_count": 36
        },
        {
          "output_type": "display_data",
          "data": {
            "text/plain": [
              "<Figure size 432x288 with 2 Axes>"
            ],
            "image/png": "[encoded data removed]"
          },
          "metadata": {
            "needs_background": "light"
          }
        }
      ]
    },
    {
      "cell_type": "markdown",
      "source": [
        "!!! theta1에 있는 숫자의 개수는 몇 개인가??? - 100개\n",
        "!!! s1에 있는 숫자의 개수는 몇 개인가?? - 100개\n",
        "theta - 입력값 / s - 출력값"
      ],
      "metadata": {
        "id": "2w2aPYN2o_US"
      }
    },
    {
      "cell_type": "markdown",
      "source": [
        "correlation coefficient (-1 ~ 1)\n",
        "\n",
        "|1|에 가까워질수록 thin, tight\n",
        "|0|에 가까워질수록 fat"
      ],
      "metadata": {
        "id": "bvlP4lhIsR_0"
      }
    },
    {
      "cell_type": "code",
      "source": [
        "np.corrcoef(s1,s2)"
      ],
      "metadata": {
        "id": "aTId6U3esVT9",
        "outputId": "592a39a8-c4f0-4d4e-f53e-6d0b4812cad6",
        "colab": {
          "base_uri": "https://localhost:8080/"
        }
      },
      "execution_count": null,
      "outputs": [
        {
          "output_type": "execute_result",
          "data": {
            "text/plain": [
              "array([[1.00000000e+00, 2.41915449e-17],\n",
              "       [2.41915449e-17, 1.00000000e+00]])"
            ]
          },
          "metadata": {},
          "execution_count": 39
        }
      ]
    }
  ]
}