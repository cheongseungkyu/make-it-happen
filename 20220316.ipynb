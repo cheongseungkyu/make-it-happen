{
  "nbformat": 4,
  "nbformat_minor": 0,
  "metadata": {
    "colab": {
      "name": "20220316.ipynb",
      "provenance": [],
      "collapsed_sections": [],
      "authorship_tag": "ABX9TyNbHLR1E8CDXWludBVX/g5s",
      "include_colab_link": true
    },
    "kernelspec": {
      "name": "python3",
      "display_name": "Python 3"
    },
    "language_info": {
      "name": "python"
    }
  },
  "cells": [
    {
      "cell_type": "markdown",
      "metadata": {
        "id": "view-in-github",
        "colab_type": "text"
      },
      "source": [
        "<a href=\"https://colab.research.google.com/github/cheongseungkyu/make-it-happen/blob/main/20220316.ipynb\" target=\"_parent\"><img src=\"https://colab.research.google.com/assets/colab-badge.svg\" alt=\"Open In Colab\"/></a>"
      ]
    },
    {
      "cell_type": "markdown",
      "source": [
        "python -> coding language / \n",
        "colab -> google (cloud 환경) / \n",
        "github -> repository (저장)\n",
        "\n",
        "data processing (text, sound, image)\n",
        "-> data를 어떻게 처리하는가? -> AI를 통해 -> AI Model (함수)\n",
        "\n",
        "input (입력) -> 함수 -> output (출력)\n",
        "\n",
        "huggingface : AI Model을 모아놓은 곳\n",
        "gradio : web programing에 들어가는 노력을 줄여줌 (web demo)\n",
        "\n",
        "input (text, sound, image) -> AI 함수 (models) -> output (text, sound, image)\n",
        "\n",
        "ex) text -> sound: TTS (Text to Speech)\n",
        "    sound -> text: STT (Sound to Text) / 음성 인식\n",
        "\n",
        "Coding - variables (변수 - 숫자 / 문자)\n",
        "       - 문법 : if (조건문) / for (반복문)\n",
        "       - 함수 : 입력, 출력으로 wrapping\n",
        "       - 팩키지 : library\n",
        "\n",
        "Programming Language - variable - syntax (조건문 if / 반복문 for, while)\n",
        "Natural Language - word - content / meaning - syntax\n",
        "\n",
        "\n",
        "\n",
        "\n"
      ],
      "metadata": {
        "id": "Fd8x7SE9yx3T"
      }
    },
    {
      "cell_type": "markdown",
      "source": [
        "Variables - Numbers / Strings / List = [ numbers , strings , ... ] / dict"
      ],
      "metadata": {
        "id": "30QbUFMlBgGj"
      }
    },
    {
      "cell_type": "markdown",
      "source": [
        "Numbers"
      ],
      "metadata": {
        "id": "qYxHERaQAIXA"
      }
    },
    {
      "cell_type": "code",
      "source": [
        "a = 1\n",
        "b = 3\n",
        "c = 5"
      ],
      "metadata": {
        "id": "FHDnW08l83KI"
      },
      "execution_count": 3,
      "outputs": []
    },
    {
      "cell_type": "code",
      "source": [
        "a + b - c"
      ],
      "metadata": {
        "colab": {
          "base_uri": "https://localhost:8080/"
        },
        "id": "F4BRRqOS9Mwa",
        "outputId": "38d32c70-8243-42c0-a093-73aea8bc8c15"
      },
      "execution_count": null,
      "outputs": [
        {
          "output_type": "execute_result",
          "data": {
            "text/plain": [
              "-1"
            ]
          },
          "metadata": {},
          "execution_count": 4
        }
      ]
    },
    {
      "cell_type": "code",
      "source": [
        "print(a)"
      ],
      "metadata": {
        "id": "LDaUo5Ba-uLX",
        "outputId": "9b4fca13-dda3-4986-b59a-081ae94f3f9e",
        "colab": {
          "base_uri": "https://localhost:8080/"
        }
      },
      "execution_count": null,
      "outputs": [
        {
          "output_type": "stream",
          "name": "stdout",
          "text": [
            "1\n"
          ]
        }
      ]
    },
    {
      "cell_type": "code",
      "source": [
        "print(type(a))"
      ],
      "metadata": {
        "id": "KWw4eyyA-xx5",
        "outputId": "a6dad93d-09d5-40f3-f790-905995dd2d91",
        "colab": {
          "base_uri": "https://localhost:8080/"
        }
      },
      "execution_count": 4,
      "outputs": [
        {
          "output_type": "stream",
          "name": "stdout",
          "text": [
            "<class 'int'>\n"
          ]
        }
      ]
    },
    {
      "cell_type": "code",
      "source": [
        "d= 1.5\n",
        "print(type(d))"
      ],
      "metadata": {
        "id": "BW2p--VD_ZXJ",
        "outputId": "9ac58b9e-e6a5-4fbb-b947-67887aa757d1",
        "colab": {
          "base_uri": "https://localhost:8080/"
        }
      },
      "execution_count": 5,
      "outputs": [
        {
          "output_type": "stream",
          "name": "stdout",
          "text": [
            "<class 'float'>\n"
          ]
        }
      ]
    },
    {
      "cell_type": "code",
      "source": [
        "d= 4\n",
        "print(type(d))"
      ],
      "metadata": {
        "id": "xFhQdN13_gKE",
        "outputId": "a3b6926d-eb5a-4d19-92d2-a99e5d5ed848",
        "colab": {
          "base_uri": "https://localhost:8080/"
        }
      },
      "execution_count": 6,
      "outputs": [
        {
          "output_type": "stream",
          "name": "stdout",
          "text": [
            "<class 'int'>\n"
          ]
        }
      ]
    },
    {
      "cell_type": "code",
      "source": [
        "e = 1.0\n",
        "print(type(e))"
      ],
      "metadata": {
        "id": "0cy5RDIp_s6U",
        "outputId": "0e4cfb91-d779-4947-8a83-33482bca1310",
        "colab": {
          "base_uri": "https://localhost:8080/"
        }
      },
      "execution_count": 7,
      "outputs": [
        {
          "output_type": "stream",
          "name": "stdout",
          "text": [
            "<class 'float'>\n"
          ]
        }
      ]
    },
    {
      "cell_type": "markdown",
      "source": [
        "Strings - single quote"
      ],
      "metadata": {
        "id": "1W7XCetXALW1"
      }
    },
    {
      "cell_type": "code",
      "source": [
        "f = '555'\n",
        "print(type(f))"
      ],
      "metadata": {
        "id": "LrqichFgAM3q",
        "outputId": "ee334817-045f-48cc-a8d1-9ac14e5ae15c",
        "colab": {
          "base_uri": "https://localhost:8080/"
        }
      },
      "execution_count": 8,
      "outputs": [
        {
          "output_type": "stream",
          "name": "stdout",
          "text": [
            "<class 'str'>\n"
          ]
        }
      ]
    },
    {
      "cell_type": "code",
      "source": [
        "g = 'hello'\n",
        "print(type(g))"
      ],
      "metadata": {
        "id": "gSCRGB0XA_oS",
        "outputId": "3a8c2c89-144b-40c0-dd13-867f46bc8269",
        "colab": {
          "base_uri": "https://localhost:8080/"
        }
      },
      "execution_count": 9,
      "outputs": [
        {
          "output_type": "stream",
          "name": "stdout",
          "text": [
            "<class 'str'>\n"
          ]
        }
      ]
    },
    {
      "cell_type": "markdown",
      "source": [
        "List"
      ],
      "metadata": {
        "id": "oI49QJppCGL9"
      }
    },
    {
      "cell_type": "code",
      "source": [
        "h = [1, a, 2, 5]\n",
        "print(type(h))"
      ],
      "metadata": {
        "id": "7QDeNyutCHQ-",
        "outputId": "ec43af54-88c6-41e2-f509-cd4e4f200aaa",
        "colab": {
          "base_uri": "https://localhost:8080/"
        }
      },
      "execution_count": 10,
      "outputs": [
        {
          "output_type": "stream",
          "name": "stdout",
          "text": [
            "<class 'list'>\n"
          ]
        }
      ]
    },
    {
      "cell_type": "code",
      "source": [
        "i = [1, 3, [4,5,a]]\n",
        "print(type(i))"
      ],
      "metadata": {
        "id": "TkjdOt71CRCK",
        "outputId": "b15cd72d-f894-4a75-8831-1b36ad87bc7b",
        "colab": {
          "base_uri": "https://localhost:8080/"
        }
      },
      "execution_count": 11,
      "outputs": [
        {
          "output_type": "stream",
          "name": "stdout",
          "text": [
            "<class 'list'>\n"
          ]
        }
      ]
    },
    {
      "cell_type": "markdown",
      "source": [
        "List의 Indexing"
      ],
      "metadata": {
        "id": "mOXyyP70mh68"
      }
    },
    {
      "cell_type": "code",
      "source": [
        "print(h[0])"
      ],
      "metadata": {
        "id": "_FvJOJ_jmlBi",
        "outputId": "37e9dfa4-eb51-4ec5-ec0b-5f5b3547cef0",
        "colab": {
          "base_uri": "https://localhost:8080/"
        }
      },
      "execution_count": 13,
      "outputs": [
        {
          "output_type": "stream",
          "name": "stdout",
          "text": [
            "1\n"
          ]
        }
      ]
    },
    {
      "cell_type": "markdown",
      "source": [
        "python은 0부터 시작 !"
      ],
      "metadata": {
        "id": "CLunuuIYnU1N"
      }
    },
    {
      "cell_type": "code",
      "source": [
        "h[3]"
      ],
      "metadata": {
        "id": "RYEYoMILnXrJ",
        "outputId": "cdf14f15-6c1e-4602-c3c5-7c95239d956a",
        "colab": {
          "base_uri": "https://localhost:8080/"
        }
      },
      "execution_count": 18,
      "outputs": [
        {
          "output_type": "execute_result",
          "data": {
            "text/plain": [
              "5"
            ]
          },
          "metadata": {},
          "execution_count": 18
        }
      ]
    },
    {
      "cell_type": "code",
      "source": [
        "a = [1, 2, 3, 4, 5, 6, 7, 8, 9, 10]\n",
        "a[:]"
      ],
      "metadata": {
        "id": "hpwy1iNVo6bO",
        "outputId": "581cde10-b247-49ea-d833-3ab921618cf8",
        "colab": {
          "base_uri": "https://localhost:8080/"
        }
      },
      "execution_count": 20,
      "outputs": [
        {
          "output_type": "execute_result",
          "data": {
            "text/plain": [
              "[1, 2, 3, 4, 5, 6, 7, 8, 9, 10]"
            ]
          },
          "metadata": {},
          "execution_count": 20
        }
      ]
    },
    {
      "cell_type": "markdown",
      "source": [
        ":는 전체를 의미"
      ],
      "metadata": {
        "id": "5w_MSBdxplTe"
      }
    },
    {
      "cell_type": "code",
      "source": [
        "a[1:-1]"
      ],
      "metadata": {
        "id": "vNQJcG1dpJIH",
        "outputId": "b69f912e-ca10-4d44-d42f-3d5cc1fc9646",
        "colab": {
          "base_uri": "https://localhost:8080/"
        }
      },
      "execution_count": 23,
      "outputs": [
        {
          "output_type": "execute_result",
          "data": {
            "text/plain": [
              "[2, 3, 4, 5, 6, 7, 8, 9]"
            ]
          },
          "metadata": {},
          "execution_count": 23
        }
      ]
    },
    {
      "cell_type": "code",
      "source": [
        "a[3:8]"
      ],
      "metadata": {
        "id": "37449l04pa9z",
        "outputId": "c85d4b1e-2820-4e2c-e03a-78b16303d8fd",
        "colab": {
          "base_uri": "https://localhost:8080/"
        }
      },
      "execution_count": 24,
      "outputs": [
        {
          "output_type": "execute_result",
          "data": {
            "text/plain": [
              "[4, 5, 6, 7, 8]"
            ]
          },
          "metadata": {},
          "execution_count": 24
        }
      ]
    },
    {
      "cell_type": "code",
      "source": [
        "a[:-1]"
      ],
      "metadata": {
        "id": "6cBgxXmDqvyh",
        "outputId": "3ff982a5-694d-44dc-acd3-b3e0531725aa",
        "colab": {
          "base_uri": "https://localhost:8080/"
        }
      },
      "execution_count": 25,
      "outputs": [
        {
          "output_type": "execute_result",
          "data": {
            "text/plain": [
              "[1, 2, 3, 4, 5, 6, 7, 8, 9]"
            ]
          },
          "metadata": {},
          "execution_count": 25
        }
      ]
    },
    {
      "cell_type": "code",
      "source": [
        "b = [1, 5, ['a', 7]]"
      ],
      "metadata": {
        "id": "Jo8wx5XtrJue"
      },
      "execution_count": 26,
      "outputs": []
    },
    {
      "cell_type": "code",
      "source": [
        "print(b[2][1])"
      ],
      "metadata": {
        "id": "GHUPL-COrRAE",
        "outputId": "b348ec5d-1e94-47fb-d623-f35b8ba3f216",
        "colab": {
          "base_uri": "https://localhost:8080/"
        }
      },
      "execution_count": 29,
      "outputs": [
        {
          "output_type": "stream",
          "name": "stdout",
          "text": [
            "7\n"
          ]
        }
      ]
    },
    {
      "cell_type": "code",
      "source": [
        "b[2][:]"
      ],
      "metadata": {
        "id": "PqfurD2CrpQM",
        "outputId": "a67c96eb-8d3f-4f99-cc09-c862f52b7f09",
        "colab": {
          "base_uri": "https://localhost:8080/"
        }
      },
      "execution_count": 31,
      "outputs": [
        {
          "output_type": "execute_result",
          "data": {
            "text/plain": [
              "['a', 7]"
            ]
          },
          "metadata": {},
          "execution_count": 31
        }
      ]
    },
    {
      "cell_type": "code",
      "source": [
        "b[2][:2]"
      ],
      "metadata": {
        "id": "fzrfxM_Br0rQ",
        "outputId": "844c2f97-ee74-4cc8-bc0c-3d6a1a75a666",
        "colab": {
          "base_uri": "https://localhost:8080/"
        }
      },
      "execution_count": 32,
      "outputs": [
        {
          "output_type": "execute_result",
          "data": {
            "text/plain": [
              "['a', 7]"
            ]
          },
          "metadata": {},
          "execution_count": 32
        }
      ]
    },
    {
      "cell_type": "code",
      "source": [
        "a = 'larry1999'"
      ],
      "metadata": {
        "id": "6ZjInos9s3Lz"
      },
      "execution_count": 34,
      "outputs": []
    },
    {
      "cell_type": "code",
      "source": [
        "a[2:-1]"
      ],
      "metadata": {
        "id": "hknNZxlVs69U",
        "outputId": "f3ee4585-47fb-4a11-c46a-2c840fa9f477",
        "colab": {
          "base_uri": "https://localhost:8080/",
          "height": 36
        }
      },
      "execution_count": 38,
      "outputs": [
        {
          "output_type": "execute_result",
          "data": {
            "text/plain": [
              "'rry199'"
            ],
            "application/vnd.google.colaboratory.intrinsic+json": {
              "type": "string"
            }
          },
          "metadata": {},
          "execution_count": 38
        }
      ]
    },
    {
      "cell_type": "code",
      "source": [
        "a[:-1]"
      ],
      "metadata": {
        "id": "-XZ0YYVUtbh0",
        "outputId": "59dd9553-6609-4d5b-f5f6-a4756d1e2755",
        "colab": {
          "base_uri": "https://localhost:8080/",
          "height": 36
        }
      },
      "execution_count": 39,
      "outputs": [
        {
          "output_type": "execute_result",
          "data": {
            "text/plain": [
              "'larry199'"
            ],
            "application/vnd.google.colaboratory.intrinsic+json": {
              "type": "string"
            }
          },
          "metadata": {},
          "execution_count": 39
        }
      ]
    },
    {
      "cell_type": "markdown",
      "source": [
        "List = Tuple / \n",
        "Tuple은 내부의 변수를 바꾸지 못함"
      ],
      "metadata": {
        "id": "_t7wp7IKt_j2"
      }
    },
    {
      "cell_type": "code",
      "source": [
        "a = [5,6,7]\n",
        "a[2]\n",
        "a[2] = 5\n",
        "print(a)"
      ],
      "metadata": {
        "id": "iEjF9vINu38k",
        "outputId": "c56a36b6-c8be-496c-8186-1dec59a6acfd",
        "colab": {
          "base_uri": "https://localhost:8080/"
        }
      },
      "execution_count": 46,
      "outputs": [
        {
          "output_type": "stream",
          "name": "stdout",
          "text": [
            "[5, 6, 5]\n"
          ]
        }
      ]
    },
    {
      "cell_type": "code",
      "source": [
        " b = (1,2,3)"
      ],
      "metadata": {
        "id": "9jFurmGCuDII"
      },
      "execution_count": 40,
      "outputs": []
    },
    {
      "cell_type": "code",
      "source": [
        "b[0]"
      ],
      "metadata": {
        "id": "nEDjizlcupB5",
        "outputId": "28541e9a-6c43-445d-ebcb-b165baa677ea",
        "colab": {
          "base_uri": "https://localhost:8080/"
        }
      },
      "execution_count": 41,
      "outputs": [
        {
          "output_type": "execute_result",
          "data": {
            "text/plain": [
              "1"
            ]
          },
          "metadata": {},
          "execution_count": 41
        }
      ]
    },
    {
      "cell_type": "code",
      "source": [
        "b[0] = 2"
      ],
      "metadata": {
        "id": "g672lyn1uu-x",
        "outputId": "00827860-ad71-46d0-f2aa-ebec6f7d4f50",
        "colab": {
          "base_uri": "https://localhost:8080/",
          "height": 176
        }
      },
      "execution_count": 42,
      "outputs": [
        {
          "output_type": "error",
          "ename": "TypeError",
          "evalue": "ignored",
          "traceback": [
            "\u001b[0;31m---------------------------------------------------------------------------\u001b[0m",
            "\u001b[0;31mTypeError\u001b[0m                                 Traceback (most recent call last)",
            "\u001b[0;32m<ipython-input-42-88fa4ba0b30d>\u001b[0m in \u001b[0;36m<module>\u001b[0;34m()\u001b[0m\n\u001b[0;32m----> 1\u001b[0;31m \u001b[0mb\u001b[0m\u001b[0;34m[\u001b[0m\u001b[0;36m0\u001b[0m\u001b[0;34m]\u001b[0m \u001b[0;34m=\u001b[0m \u001b[0;36m2\u001b[0m\u001b[0;34m\u001b[0m\u001b[0;34m\u001b[0m\u001b[0m\n\u001b[0m",
            "\u001b[0;31mTypeError\u001b[0m: 'tuple' object does not support item assignment"
          ]
        }
      ]
    },
    {
      "cell_type": "markdown",
      "source": [
        "Dict - key / value , 중괄호로 표현"
      ],
      "metadata": {
        "id": "8vm0JASHw0NQ"
      }
    },
    {
      "cell_type": "code",
      "source": [
        "c = {'a':'boy', 'b':'girl', 123:'human', 456:567}"
      ],
      "metadata": {
        "id": "Kota-ZPyw4Tl"
      },
      "execution_count": 58,
      "outputs": []
    },
    {
      "cell_type": "code",
      "source": [
        "c['a']"
      ],
      "metadata": {
        "id": "qxY6lY9cxQT2",
        "outputId": "0582b3cb-11e1-43e7-a72c-1a6b5ccb5f86",
        "colab": {
          "base_uri": "https://localhost:8080/",
          "height": 36
        }
      },
      "execution_count": 52,
      "outputs": [
        {
          "output_type": "execute_result",
          "data": {
            "text/plain": [
              "'boy'"
            ],
            "application/vnd.google.colaboratory.intrinsic+json": {
              "type": "string"
            }
          },
          "metadata": {},
          "execution_count": 52
        }
      ]
    },
    {
      "cell_type": "code",
      "source": [
        "print(c[123])"
      ],
      "metadata": {
        "id": "0jqGtKcExiVd",
        "outputId": "0c723e22-1cb1-48de-e886-81f467aee594",
        "colab": {
          "base_uri": "https://localhost:8080/"
        }
      },
      "execution_count": 57,
      "outputs": [
        {
          "output_type": "stream",
          "name": "stdout",
          "text": [
            "human\n"
          ]
        }
      ]
    },
    {
      "cell_type": "code",
      "source": [
        "c[456]"
      ],
      "metadata": {
        "id": "e8nTVjKgx-Qj",
        "outputId": "301e53fc-b5f9-4343-a2c1-6677c633547c",
        "colab": {
          "base_uri": "https://localhost:8080/"
        }
      },
      "execution_count": 59,
      "outputs": [
        {
          "output_type": "execute_result",
          "data": {
            "text/plain": [
              "567"
            ]
          },
          "metadata": {},
          "execution_count": 59
        }
      ]
    },
    {
      "cell_type": "code",
      "source": [
        "print(c['a']) ; print(c['b'])"
      ],
      "metadata": {
        "id": "xy2g20RoyrQv",
        "outputId": "d029022a-391c-492b-bd44-4089dc84882f",
        "colab": {
          "base_uri": "https://localhost:8080/"
        }
      },
      "execution_count": 67,
      "outputs": [
        {
          "output_type": "stream",
          "name": "stdout",
          "text": [
            "boy\n",
            "girl\n"
          ]
        }
      ]
    },
    {
      "cell_type": "markdown",
      "source": [
        "여러 개 나열할 때는 semicolon"
      ],
      "metadata": {
        "id": "Ws7kRg9ZzBGG"
      }
    },
    {
      "cell_type": "code",
      "source": [
        ""
      ],
      "metadata": {
        "id": "ZEUaE-qK_a_j"
      },
      "execution_count": null,
      "outputs": []
    }
  ]
}