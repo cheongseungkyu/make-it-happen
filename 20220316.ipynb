{
  "nbformat": 4,
  "nbformat_minor": 0,
  "metadata": {
    "colab": {
      "name": "20220316.ipynb",
      "provenance": [],
      "collapsed_sections": [],
      "authorship_tag": "ABX9TyPH+PX5uutKy9yKjc47Bh3D",
      "include_colab_link": true
    },
    "kernelspec": {
      "name": "python3",
      "display_name": "Python 3"
    },
    "language_info": {
      "name": "python"
    }
  },
  "cells": [
    {
      "cell_type": "markdown",
      "metadata": {
        "id": "view-in-github",
        "colab_type": "text"
      },
      "source": [
        "<a href=\"https://colab.research.google.com/github/cheongseungkyu/make-it-happen/blob/main/20220316.ipynb\" target=\"_parent\"><img src=\"https://colab.research.google.com/assets/colab-badge.svg\" alt=\"Open In Colab\"/></a>"
      ]
    },
    {
      "cell_type": "markdown",
      "source": [
        "2022/03/07\n",
        "\n",
        "python -> coding language\n",
        "colab -> google (cloud 환경)\n",
        "github -> repository (저장)\n",
        "\n",
        "data processing (text, sound, image)\n",
        "-> data를 어떻게 처리하는가? -> AI를 통해 -> AI Model (함수)\n",
        "\n",
        "input (입력) -> 함수 -> output (출력)\n",
        "\n",
        "huggingface : AI Model을 모아놓은 곳\n",
        "gradio : web programing에 들어가는 노력을 줄여줌 (web demo)\n",
        "\n"
      ],
      "metadata": {
        "id": "Fd8x7SE9yx3T"
      }
    }
  ]
}