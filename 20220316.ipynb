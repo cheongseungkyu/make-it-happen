{
  "nbformat": 4,
  "nbformat_minor": 0,
  "metadata": {
    "colab": {
      "name": "20220316.ipynb",
      "provenance": [],
      "collapsed_sections": [],
      "authorship_tag": "ABX9TyMB9UXuq+rS0hvunh8RC26E",
      "include_colab_link": true
    },
    "kernelspec": {
      "name": "python3",
      "display_name": "Python 3"
    },
    "language_info": {
      "name": "python"
    }
  },
  "cells": [
    {
      "cell_type": "markdown",
      "metadata": {
        "id": "view-in-github",
        "colab_type": "text"
      },
      "source": [
        "<a href=\"https://colab.research.google.com/github/cheongseungkyu/make-it-happen/blob/main/20220316.ipynb\" target=\"_parent\"><img src=\"https://colab.research.google.com/assets/colab-badge.svg\" alt=\"Open In Colab\"/></a>"
      ]
    },
    {
      "cell_type": "markdown",
      "source": [
        "python -> coding language / \n",
        "colab -> google (cloud 환경) / \n",
        "github -> repository (저장)\n",
        "\n",
        "data processing (text, sound, image)\n",
        "-> data를 어떻게 처리하는가? -> AI를 통해 -> AI Model (함수)\n",
        "\n",
        "input (입력) -> 함수 -> output (출력)\n",
        "\n",
        "huggingface : AI Model을 모아놓은 곳\n",
        "gradio : web programing에 들어가는 노력을 줄여줌 (web demo)\n",
        "\n",
        "input (text, sound, image) -> AI 함수 (models) -> output (text, sound, image)\n",
        "\n",
        "ex) text -> sound: TTS (Text to Speech)\n",
        "    sound -> text: STT (Sound to Text) / 음성 인식\n",
        "\n",
        "Coding - variables (변수 - 숫자 / 문자)\n",
        "       - 문법 : if (조건문) / for (반복문)\n",
        "       - 함수 : 입력, 출력으로 wrapping\n",
        "       - 팩키지 : library\n",
        "\n",
        "Programming Language - variable - syntax (조건문 if / 반복문 for, while)\n",
        "Natural Language - word - content / meaning - syntax\n",
        "\n",
        "\n",
        "\n",
        "\n"
      ],
      "metadata": {
        "id": "Fd8x7SE9yx3T"
      }
    },
    {
      "cell_type": "markdown",
      "source": [
        "Variables - Numbers / Strings / List = [ numbers , strings , ... ]"
      ],
      "metadata": {
        "id": "30QbUFMlBgGj"
      }
    },
    {
      "cell_type": "markdown",
      "source": [
        "Numbers"
      ],
      "metadata": {
        "id": "qYxHERaQAIXA"
      }
    },
    {
      "cell_type": "code",
      "source": [
        "a = 1\n",
        "b = 3\n",
        "c = 5"
      ],
      "metadata": {
        "id": "FHDnW08l83KI"
      },
      "execution_count": 1,
      "outputs": []
    },
    {
      "cell_type": "code",
      "source": [
        "a + b - c"
      ],
      "metadata": {
        "colab": {
          "base_uri": "https://localhost:8080/"
        },
        "id": "F4BRRqOS9Mwa",
        "outputId": "38d32c70-8243-42c0-a093-73aea8bc8c15"
      },
      "execution_count": 4,
      "outputs": [
        {
          "output_type": "execute_result",
          "data": {
            "text/plain": [
              "-1"
            ]
          },
          "metadata": {},
          "execution_count": 4
        }
      ]
    },
    {
      "cell_type": "code",
      "source": [
        "print(a)"
      ],
      "metadata": {
        "id": "LDaUo5Ba-uLX",
        "outputId": "9b4fca13-dda3-4986-b59a-081ae94f3f9e",
        "colab": {
          "base_uri": "https://localhost:8080/"
        }
      },
      "execution_count": 5,
      "outputs": [
        {
          "output_type": "stream",
          "name": "stdout",
          "text": [
            "1\n"
          ]
        }
      ]
    },
    {
      "cell_type": "code",
      "source": [
        "print(type(a))"
      ],
      "metadata": {
        "id": "KWw4eyyA-xx5",
        "outputId": "112e2b6d-8187-44ef-c773-2895687b06d8",
        "colab": {
          "base_uri": "https://localhost:8080/"
        }
      },
      "execution_count": 6,
      "outputs": [
        {
          "output_type": "stream",
          "name": "stdout",
          "text": [
            "<class 'int'>\n"
          ]
        }
      ]
    },
    {
      "cell_type": "code",
      "source": [
        "d= 1.5\n",
        "print(type(d))"
      ],
      "metadata": {
        "id": "BW2p--VD_ZXJ",
        "outputId": "b5df08ea-90d5-47c6-8522-ef681cfdc30d",
        "colab": {
          "base_uri": "https://localhost:8080/"
        }
      },
      "execution_count": 7,
      "outputs": [
        {
          "output_type": "stream",
          "name": "stdout",
          "text": [
            "<class 'float'>\n"
          ]
        }
      ]
    },
    {
      "cell_type": "code",
      "source": [
        "d= 4\n",
        "print(type(d))"
      ],
      "metadata": {
        "id": "xFhQdN13_gKE",
        "outputId": "8547b031-0f97-4688-c173-7784ddf84fa8",
        "colab": {
          "base_uri": "https://localhost:8080/"
        }
      },
      "execution_count": 8,
      "outputs": [
        {
          "output_type": "stream",
          "name": "stdout",
          "text": [
            "<class 'int'>\n"
          ]
        }
      ]
    },
    {
      "cell_type": "code",
      "source": [
        "e = 1.0\n",
        "print(type(e))"
      ],
      "metadata": {
        "id": "0cy5RDIp_s6U",
        "outputId": "58292fc1-63cb-4078-d017-96a33e31ab7c",
        "colab": {
          "base_uri": "https://localhost:8080/"
        }
      },
      "execution_count": 9,
      "outputs": [
        {
          "output_type": "stream",
          "name": "stdout",
          "text": [
            "<class 'float'>\n"
          ]
        }
      ]
    },
    {
      "cell_type": "markdown",
      "source": [
        "Strings - single quote"
      ],
      "metadata": {
        "id": "1W7XCetXALW1"
      }
    },
    {
      "cell_type": "code",
      "source": [
        "f = '555'\n",
        "print(type(f))"
      ],
      "metadata": {
        "id": "LrqichFgAM3q",
        "outputId": "888f90c7-51d2-46cc-9eed-3a6b34826e7e",
        "colab": {
          "base_uri": "https://localhost:8080/"
        }
      },
      "execution_count": 11,
      "outputs": [
        {
          "output_type": "stream",
          "name": "stdout",
          "text": [
            "<class 'str'>\n"
          ]
        }
      ]
    },
    {
      "cell_type": "code",
      "source": [
        "g = 'hello'\n",
        "print(type(g))"
      ],
      "metadata": {
        "id": "gSCRGB0XA_oS",
        "outputId": "068e8747-11e2-4f9f-89b3-9383c5f75f53",
        "colab": {
          "base_uri": "https://localhost:8080/"
        }
      },
      "execution_count": 14,
      "outputs": [
        {
          "output_type": "stream",
          "name": "stdout",
          "text": [
            "<class 'str'>\n"
          ]
        }
      ]
    },
    {
      "cell_type": "markdown",
      "source": [
        "List"
      ],
      "metadata": {
        "id": "oI49QJppCGL9"
      }
    },
    {
      "cell_type": "code",
      "source": [
        "h = [1, a, 2, 5]\n",
        "print(type(h))"
      ],
      "metadata": {
        "id": "7QDeNyutCHQ-",
        "outputId": "92f421ea-6e9d-4d65-a46a-6aad6f0e9500",
        "colab": {
          "base_uri": "https://localhost:8080/"
        }
      },
      "execution_count": 15,
      "outputs": [
        {
          "output_type": "stream",
          "name": "stdout",
          "text": [
            "<class 'list'>\n"
          ]
        }
      ]
    },
    {
      "cell_type": "code",
      "source": [
        "i = [1, 3, [4,5,a]]\n",
        "print(type(i))"
      ],
      "metadata": {
        "id": "TkjdOt71CRCK",
        "outputId": "c2701056-bb3c-46a2-8b15-6ff8d650984d",
        "colab": {
          "base_uri": "https://localhost:8080/"
        }
      },
      "execution_count": 17,
      "outputs": [
        {
          "output_type": "stream",
          "name": "stdout",
          "text": [
            "<class 'list'>\n"
          ]
        }
      ]
    }
  ]
}