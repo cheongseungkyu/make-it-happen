{
  "nbformat": 4,
  "nbformat_minor": 0,
  "metadata": {
    "colab": {
      "name": "20220316.ipynb",
      "provenance": [],
      "collapsed_sections": [],
      "toc_visible": true,
      "authorship_tag": "ABX9TyNqc4Qr/D3Ltkc2iA6P0VsX",
      "include_colab_link": true
    },
    "kernelspec": {
      "name": "python3",
      "display_name": "Python 3"
    },
    "language_info": {
      "name": "python"
    }
  },
  "cells": [
    {
      "cell_type": "markdown",
      "metadata": {
        "id": "view-in-github",
        "colab_type": "text"
      },
      "source": [
        "<a href=\"https://colab.research.google.com/github/cheongseungkyu/make-it-happen/blob/main/20220316.ipynb\" target=\"_parent\"><img src=\"https://colab.research.google.com/assets/colab-badge.svg\" alt=\"Open In Colab\"/></a>"
      ]
    },
    {
      "cell_type": "markdown",
      "source": [
        "python -> coding language / \n",
        "colab -> google (cloud 환경) / \n",
        "github -> repository (저장)\n",
        "\n",
        "data processing (text, sound, image)\n",
        "-> data를 어떻게 처리하는가? -> AI를 통해 -> AI Model (함수)\n",
        "\n",
        "input (입력) -> 함수 -> output (출력)\n",
        "\n",
        "huggingface : AI Model을 모아놓은 곳\n",
        "gradio : web programing에 들어가는 노력을 줄여줌 (web demo)\n",
        "\n",
        "input (text, sound, image) -> AI 함수 (models) -> output (text, sound, image)\n",
        "\n",
        "ex) text -> sound: TTS (Text to Speech)\n",
        "    sound -> text: STT (Sound to Text) / 음성 인식\n",
        "\n",
        "Coding - variables (변수 - 숫자 / 문자)\n",
        "       - 문법 : if (조건문) / for (반복문)\n",
        "       - 함수 : 입력, 출력으로 wrapping\n",
        "       - 팩키지 : library\n",
        "\n",
        "Programming Language - variable - syntax (조건문 if / 반복문 for, while)\n",
        "Natural Language - word - content / meaning - syntax\n",
        "\n",
        "\n",
        "\n",
        "\n"
      ],
      "metadata": {
        "id": "Fd8x7SE9yx3T"
      }
    },
    {
      "cell_type": "markdown",
      "source": [
        "Variables - Numbers / Strings / List = [ numbers , strings , ... ] / dict"
      ],
      "metadata": {
        "id": "30QbUFMlBgGj"
      }
    },
    {
      "cell_type": "markdown",
      "source": [
        "Numbers"
      ],
      "metadata": {
        "id": "qYxHERaQAIXA"
      }
    },
    {
      "cell_type": "code",
      "source": [
        "a = 1\n",
        "b = 3\n",
        "c = 5"
      ],
      "metadata": {
        "id": "FHDnW08l83KI"
      },
      "execution_count": null,
      "outputs": []
    },
    {
      "cell_type": "code",
      "source": [
        "a + b - c"
      ],
      "metadata": {
        "colab": {
          "base_uri": "https://localhost:8080/"
        },
        "id": "F4BRRqOS9Mwa",
        "outputId": "38d32c70-8243-42c0-a093-73aea8bc8c15"
      },
      "execution_count": null,
      "outputs": [
        {
          "output_type": "execute_result",
          "data": {
            "text/plain": [
              "-1"
            ]
          },
          "metadata": {},
          "execution_count": 4
        }
      ]
    },
    {
      "cell_type": "code",
      "source": [
        "print(a)"
      ],
      "metadata": {
        "id": "LDaUo5Ba-uLX",
        "outputId": "9b4fca13-dda3-4986-b59a-081ae94f3f9e",
        "colab": {
          "base_uri": "https://localhost:8080/"
        }
      },
      "execution_count": null,
      "outputs": [
        {
          "output_type": "stream",
          "name": "stdout",
          "text": [
            "1\n"
          ]
        }
      ]
    },
    {
      "cell_type": "code",
      "source": [
        "print(type(a))"
      ],
      "metadata": {
        "id": "KWw4eyyA-xx5",
        "outputId": "a6dad93d-09d5-40f3-f790-905995dd2d91",
        "colab": {
          "base_uri": "https://localhost:8080/"
        }
      },
      "execution_count": null,
      "outputs": [
        {
          "output_type": "stream",
          "name": "stdout",
          "text": [
            "<class 'int'>\n"
          ]
        }
      ]
    },
    {
      "cell_type": "code",
      "source": [
        "d= 1.5\n",
        "print(type(d))"
      ],
      "metadata": {
        "id": "BW2p--VD_ZXJ",
        "outputId": "9ac58b9e-e6a5-4fbb-b947-67887aa757d1",
        "colab": {
          "base_uri": "https://localhost:8080/"
        }
      },
      "execution_count": null,
      "outputs": [
        {
          "output_type": "stream",
          "name": "stdout",
          "text": [
            "<class 'float'>\n"
          ]
        }
      ]
    },
    {
      "cell_type": "code",
      "source": [
        "d= 4\n",
        "print(type(d))"
      ],
      "metadata": {
        "id": "xFhQdN13_gKE",
        "outputId": "a3b6926d-eb5a-4d19-92d2-a99e5d5ed848",
        "colab": {
          "base_uri": "https://localhost:8080/"
        }
      },
      "execution_count": null,
      "outputs": [
        {
          "output_type": "stream",
          "name": "stdout",
          "text": [
            "<class 'int'>\n"
          ]
        }
      ]
    },
    {
      "cell_type": "code",
      "source": [
        "e = 1.0\n",
        "print(type(e))"
      ],
      "metadata": {
        "id": "0cy5RDIp_s6U",
        "outputId": "0e4cfb91-d779-4947-8a83-33482bca1310",
        "colab": {
          "base_uri": "https://localhost:8080/"
        }
      },
      "execution_count": null,
      "outputs": [
        {
          "output_type": "stream",
          "name": "stdout",
          "text": [
            "<class 'float'>\n"
          ]
        }
      ]
    },
    {
      "cell_type": "markdown",
      "source": [
        "Strings - single quote"
      ],
      "metadata": {
        "id": "1W7XCetXALW1"
      }
    },
    {
      "cell_type": "code",
      "source": [
        "f = '555'\n",
        "print(type(f))"
      ],
      "metadata": {
        "id": "LrqichFgAM3q",
        "outputId": "ee334817-045f-48cc-a8d1-9ac14e5ae15c",
        "colab": {
          "base_uri": "https://localhost:8080/"
        }
      },
      "execution_count": null,
      "outputs": [
        {
          "output_type": "stream",
          "name": "stdout",
          "text": [
            "<class 'str'>\n"
          ]
        }
      ]
    },
    {
      "cell_type": "code",
      "source": [
        "g = 'hello'\n",
        "print(type(g))"
      ],
      "metadata": {
        "id": "gSCRGB0XA_oS",
        "outputId": "3a8c2c89-144b-40c0-dd13-867f46bc8269",
        "colab": {
          "base_uri": "https://localhost:8080/"
        }
      },
      "execution_count": null,
      "outputs": [
        {
          "output_type": "stream",
          "name": "stdout",
          "text": [
            "<class 'str'>\n"
          ]
        }
      ]
    },
    {
      "cell_type": "markdown",
      "source": [
        "List"
      ],
      "metadata": {
        "id": "oI49QJppCGL9"
      }
    },
    {
      "cell_type": "code",
      "source": [
        "h = [1, a, 2, 5]\n",
        "print(type(h))"
      ],
      "metadata": {
        "id": "7QDeNyutCHQ-",
        "outputId": "ec43af54-88c6-41e2-f509-cd4e4f200aaa",
        "colab": {
          "base_uri": "https://localhost:8080/"
        }
      },
      "execution_count": null,
      "outputs": [
        {
          "output_type": "stream",
          "name": "stdout",
          "text": [
            "<class 'list'>\n"
          ]
        }
      ]
    },
    {
      "cell_type": "code",
      "source": [
        "i = [1, 3, [4,5,a]]\n",
        "print(type(i))"
      ],
      "metadata": {
        "id": "TkjdOt71CRCK",
        "outputId": "b15cd72d-f894-4a75-8831-1b36ad87bc7b",
        "colab": {
          "base_uri": "https://localhost:8080/"
        }
      },
      "execution_count": null,
      "outputs": [
        {
          "output_type": "stream",
          "name": "stdout",
          "text": [
            "<class 'list'>\n"
          ]
        }
      ]
    },
    {
      "cell_type": "markdown",
      "source": [
        "List의 Indexing"
      ],
      "metadata": {
        "id": "mOXyyP70mh68"
      }
    },
    {
      "cell_type": "code",
      "source": [
        "print(h[0])"
      ],
      "metadata": {
        "colab": {
          "base_uri": "https://localhost:8080/"
        },
        "id": "_FvJOJ_jmlBi",
        "outputId": "37e9dfa4-eb51-4ec5-ec0b-5f5b3547cef0"
      },
      "execution_count": null,
      "outputs": [
        {
          "output_type": "stream",
          "name": "stdout",
          "text": [
            "1\n"
          ]
        }
      ]
    },
    {
      "cell_type": "markdown",
      "source": [
        "python은 0부터 시작 !"
      ],
      "metadata": {
        "id": "CLunuuIYnU1N"
      }
    },
    {
      "cell_type": "code",
      "source": [
        "h[3]"
      ],
      "metadata": {
        "colab": {
          "base_uri": "https://localhost:8080/"
        },
        "id": "RYEYoMILnXrJ",
        "outputId": "cdf14f15-6c1e-4602-c3c5-7c95239d956a"
      },
      "execution_count": null,
      "outputs": [
        {
          "output_type": "execute_result",
          "data": {
            "text/plain": [
              "5"
            ]
          },
          "metadata": {},
          "execution_count": 18
        }
      ]
    },
    {
      "cell_type": "code",
      "source": [
        "a = [1, 2, 3, 4, 5, 6, 7, 8, 9, 10]\n",
        "a[:]"
      ],
      "metadata": {
        "colab": {
          "base_uri": "https://localhost:8080/"
        },
        "id": "hpwy1iNVo6bO",
        "outputId": "581cde10-b247-49ea-d833-3ab921618cf8"
      },
      "execution_count": null,
      "outputs": [
        {
          "output_type": "execute_result",
          "data": {
            "text/plain": [
              "[1, 2, 3, 4, 5, 6, 7, 8, 9, 10]"
            ]
          },
          "metadata": {},
          "execution_count": 20
        }
      ]
    },
    {
      "cell_type": "markdown",
      "source": [
        ":는 전체를 의미"
      ],
      "metadata": {
        "id": "5w_MSBdxplTe"
      }
    },
    {
      "cell_type": "code",
      "source": [
        "a[1:-1]"
      ],
      "metadata": {
        "colab": {
          "base_uri": "https://localhost:8080/"
        },
        "id": "vNQJcG1dpJIH",
        "outputId": "b69f912e-ca10-4d44-d42f-3d5cc1fc9646"
      },
      "execution_count": null,
      "outputs": [
        {
          "output_type": "execute_result",
          "data": {
            "text/plain": [
              "[2, 3, 4, 5, 6, 7, 8, 9]"
            ]
          },
          "metadata": {},
          "execution_count": 23
        }
      ]
    },
    {
      "cell_type": "code",
      "source": [
        "a[3:8]"
      ],
      "metadata": {
        "colab": {
          "base_uri": "https://localhost:8080/"
        },
        "id": "37449l04pa9z",
        "outputId": "c85d4b1e-2820-4e2c-e03a-78b16303d8fd"
      },
      "execution_count": null,
      "outputs": [
        {
          "output_type": "execute_result",
          "data": {
            "text/plain": [
              "[4, 5, 6, 7, 8]"
            ]
          },
          "metadata": {},
          "execution_count": 24
        }
      ]
    },
    {
      "cell_type": "code",
      "source": [
        "a[:-1]"
      ],
      "metadata": {
        "colab": {
          "base_uri": "https://localhost:8080/"
        },
        "id": "6cBgxXmDqvyh",
        "outputId": "3ff982a5-694d-44dc-acd3-b3e0531725aa"
      },
      "execution_count": null,
      "outputs": [
        {
          "output_type": "execute_result",
          "data": {
            "text/plain": [
              "[1, 2, 3, 4, 5, 6, 7, 8, 9]"
            ]
          },
          "metadata": {},
          "execution_count": 25
        }
      ]
    },
    {
      "cell_type": "code",
      "source": [
        "b = [1, 5, ['a', 7]]"
      ],
      "metadata": {
        "id": "Jo8wx5XtrJue"
      },
      "execution_count": null,
      "outputs": []
    },
    {
      "cell_type": "code",
      "source": [
        "print(b[2][1])"
      ],
      "metadata": {
        "colab": {
          "base_uri": "https://localhost:8080/"
        },
        "id": "GHUPL-COrRAE",
        "outputId": "b348ec5d-1e94-47fb-d623-f35b8ba3f216"
      },
      "execution_count": null,
      "outputs": [
        {
          "output_type": "stream",
          "name": "stdout",
          "text": [
            "7\n"
          ]
        }
      ]
    },
    {
      "cell_type": "code",
      "source": [
        "b[2][:]"
      ],
      "metadata": {
        "colab": {
          "base_uri": "https://localhost:8080/"
        },
        "id": "PqfurD2CrpQM",
        "outputId": "a67c96eb-8d3f-4f99-cc09-c862f52b7f09"
      },
      "execution_count": null,
      "outputs": [
        {
          "output_type": "execute_result",
          "data": {
            "text/plain": [
              "['a', 7]"
            ]
          },
          "metadata": {},
          "execution_count": 31
        }
      ]
    },
    {
      "cell_type": "code",
      "source": [
        "b[2][:2]"
      ],
      "metadata": {
        "colab": {
          "base_uri": "https://localhost:8080/"
        },
        "id": "fzrfxM_Br0rQ",
        "outputId": "844c2f97-ee74-4cc8-bc0c-3d6a1a75a666"
      },
      "execution_count": null,
      "outputs": [
        {
          "output_type": "execute_result",
          "data": {
            "text/plain": [
              "['a', 7]"
            ]
          },
          "metadata": {},
          "execution_count": 32
        }
      ]
    },
    {
      "cell_type": "code",
      "source": [
        "a = 'larry1999'"
      ],
      "metadata": {
        "id": "6ZjInos9s3Lz"
      },
      "execution_count": null,
      "outputs": []
    },
    {
      "cell_type": "code",
      "source": [
        "a[2:-1]"
      ],
      "metadata": {
        "colab": {
          "base_uri": "https://localhost:8080/",
          "height": 36
        },
        "id": "hknNZxlVs69U",
        "outputId": "f3ee4585-47fb-4a11-c46a-2c840fa9f477"
      },
      "execution_count": null,
      "outputs": [
        {
          "output_type": "execute_result",
          "data": {
            "text/plain": [
              "'rry199'"
            ],
            "application/vnd.google.colaboratory.intrinsic+json": {
              "type": "string"
            }
          },
          "metadata": {},
          "execution_count": 38
        }
      ]
    },
    {
      "cell_type": "code",
      "source": [
        "a[:-1]"
      ],
      "metadata": {
        "colab": {
          "base_uri": "https://localhost:8080/",
          "height": 36
        },
        "id": "-XZ0YYVUtbh0",
        "outputId": "59dd9553-6609-4d5b-f5f6-a4756d1e2755"
      },
      "execution_count": null,
      "outputs": [
        {
          "output_type": "execute_result",
          "data": {
            "text/plain": [
              "'larry199'"
            ],
            "application/vnd.google.colaboratory.intrinsic+json": {
              "type": "string"
            }
          },
          "metadata": {},
          "execution_count": 39
        }
      ]
    },
    {
      "cell_type": "markdown",
      "source": [
        "List = Tuple / \n",
        "Tuple은 내부의 변수를 바꾸지 못함"
      ],
      "metadata": {
        "id": "_t7wp7IKt_j2"
      }
    },
    {
      "cell_type": "code",
      "source": [
        "a = [5,6,7]\n",
        "a[2]\n",
        "a[2] = 5\n",
        "print(a)"
      ],
      "metadata": {
        "colab": {
          "base_uri": "https://localhost:8080/"
        },
        "id": "iEjF9vINu38k",
        "outputId": "c56a36b6-c8be-496c-8186-1dec59a6acfd"
      },
      "execution_count": null,
      "outputs": [
        {
          "output_type": "stream",
          "name": "stdout",
          "text": [
            "[5, 6, 5]\n"
          ]
        }
      ]
    },
    {
      "cell_type": "code",
      "source": [
        " b = (1,2,3)"
      ],
      "metadata": {
        "id": "9jFurmGCuDII"
      },
      "execution_count": null,
      "outputs": []
    },
    {
      "cell_type": "code",
      "source": [
        "b[0]"
      ],
      "metadata": {
        "colab": {
          "base_uri": "https://localhost:8080/"
        },
        "id": "nEDjizlcupB5",
        "outputId": "28541e9a-6c43-445d-ebcb-b165baa677ea"
      },
      "execution_count": null,
      "outputs": [
        {
          "output_type": "execute_result",
          "data": {
            "text/plain": [
              "1"
            ]
          },
          "metadata": {},
          "execution_count": 41
        }
      ]
    },
    {
      "cell_type": "code",
      "source": [
        "b[0] = 2"
      ],
      "metadata": {
        "colab": {
          "base_uri": "https://localhost:8080/",
          "height": 176
        },
        "id": "g672lyn1uu-x",
        "outputId": "00827860-ad71-46d0-f2aa-ebec6f7d4f50"
      },
      "execution_count": null,
      "outputs": [
        {
          "output_type": "error",
          "ename": "TypeError",
          "evalue": "ignored",
          "traceback": [
            "\u001b[0;31m---------------------------------------------------------------------------\u001b[0m",
            "\u001b[0;31mTypeError\u001b[0m                                 Traceback (most recent call last)",
            "\u001b[0;32m<ipython-input-42-88fa4ba0b30d>\u001b[0m in \u001b[0;36m<module>\u001b[0;34m()\u001b[0m\n\u001b[0;32m----> 1\u001b[0;31m \u001b[0mb\u001b[0m\u001b[0;34m[\u001b[0m\u001b[0;36m0\u001b[0m\u001b[0;34m]\u001b[0m \u001b[0;34m=\u001b[0m \u001b[0;36m2\u001b[0m\u001b[0;34m\u001b[0m\u001b[0;34m\u001b[0m\u001b[0m\n\u001b[0m",
            "\u001b[0;31mTypeError\u001b[0m: 'tuple' object does not support item assignment"
          ]
        }
      ]
    },
    {
      "cell_type": "markdown",
      "source": [
        "Dict - key / value , 중괄호로 표현"
      ],
      "metadata": {
        "id": "8vm0JASHw0NQ"
      }
    },
    {
      "cell_type": "code",
      "source": [
        "c = {'a':'boy', 'b':'girl', 123:'human', 456:567}"
      ],
      "metadata": {
        "id": "Kota-ZPyw4Tl"
      },
      "execution_count": null,
      "outputs": []
    },
    {
      "cell_type": "code",
      "source": [
        "c['a']"
      ],
      "metadata": {
        "colab": {
          "base_uri": "https://localhost:8080/",
          "height": 36
        },
        "id": "qxY6lY9cxQT2",
        "outputId": "0582b3cb-11e1-43e7-a72c-1a6b5ccb5f86"
      },
      "execution_count": null,
      "outputs": [
        {
          "output_type": "execute_result",
          "data": {
            "text/plain": [
              "'boy'"
            ],
            "application/vnd.google.colaboratory.intrinsic+json": {
              "type": "string"
            }
          },
          "metadata": {},
          "execution_count": 52
        }
      ]
    },
    {
      "cell_type": "code",
      "source": [
        "print(c[123])"
      ],
      "metadata": {
        "colab": {
          "base_uri": "https://localhost:8080/"
        },
        "id": "0jqGtKcExiVd",
        "outputId": "0c723e22-1cb1-48de-e886-81f467aee594"
      },
      "execution_count": null,
      "outputs": [
        {
          "output_type": "stream",
          "name": "stdout",
          "text": [
            "human\n"
          ]
        }
      ]
    },
    {
      "cell_type": "code",
      "source": [
        "c[456]"
      ],
      "metadata": {
        "colab": {
          "base_uri": "https://localhost:8080/"
        },
        "id": "e8nTVjKgx-Qj",
        "outputId": "301e53fc-b5f9-4343-a2c1-6677c633547c"
      },
      "execution_count": null,
      "outputs": [
        {
          "output_type": "execute_result",
          "data": {
            "text/plain": [
              "567"
            ]
          },
          "metadata": {},
          "execution_count": 59
        }
      ]
    },
    {
      "cell_type": "code",
      "source": [
        "print(c['a']) ; print(c['b'])"
      ],
      "metadata": {
        "colab": {
          "base_uri": "https://localhost:8080/"
        },
        "id": "xy2g20RoyrQv",
        "outputId": "d029022a-391c-492b-bd44-4089dc84882f"
      },
      "execution_count": null,
      "outputs": [
        {
          "output_type": "stream",
          "name": "stdout",
          "text": [
            "boy\n",
            "girl\n"
          ]
        }
      ]
    },
    {
      "cell_type": "markdown",
      "source": [
        "여러 개 나열할 때는 semicolon"
      ],
      "metadata": {
        "id": "Ws7kRg9ZzBGG"
      }
    },
    {
      "cell_type": "code",
      "source": [
        "a = 'larry1999'"
      ],
      "metadata": {
        "id": "ZEUaE-qK_a_j"
      },
      "execution_count": null,
      "outputs": []
    },
    {
      "cell_type": "markdown",
      "source": [
        "len = length = string의 길이"
      ],
      "metadata": {
        "id": "B4aG6klUFAn2"
      }
    },
    {
      "cell_type": "code",
      "source": [
        "len(a)"
      ],
      "metadata": {
        "colab": {
          "base_uri": "https://localhost:8080/"
        },
        "id": "Mdz7NNBrE3x1",
        "outputId": "fc496807-44d1-485e-8e8d-5842b64ef3d2"
      },
      "execution_count": null,
      "outputs": [
        {
          "output_type": "execute_result",
          "data": {
            "text/plain": [
              "9"
            ]
          },
          "metadata": {},
          "execution_count": 69
        }
      ]
    },
    {
      "cell_type": "code",
      "source": [
        "a[0] + a[2] + a[7]*10"
      ],
      "metadata": {
        "colab": {
          "base_uri": "https://localhost:8080/",
          "height": 36
        },
        "id": "QnYy90gjFHaa",
        "outputId": "1e435676-9bcd-4ac5-9ae9-202ac6468c79"
      },
      "execution_count": null,
      "outputs": [
        {
          "output_type": "execute_result",
          "data": {
            "text/plain": [
              "'lr9999999999'"
            ],
            "application/vnd.google.colaboratory.intrinsic+json": {
              "type": "string"
            }
          },
          "metadata": {},
          "execution_count": 71
        }
      ]
    },
    {
      "cell_type": "code",
      "source": [
        "a.upper()"
      ],
      "metadata": {
        "colab": {
          "base_uri": "https://localhost:8080/",
          "height": 36
        },
        "id": "HUZjFHJsGoTB",
        "outputId": "1b7b52d5-cad7-4fa3-f844-9651ffbb4e3e"
      },
      "execution_count": null,
      "outputs": [
        {
          "output_type": "execute_result",
          "data": {
            "text/plain": [
              "'LARRY1999'"
            ],
            "application/vnd.google.colaboratory.intrinsic+json": {
              "type": "string"
            }
          },
          "metadata": {},
          "execution_count": 72
        }
      ]
    },
    {
      "cell_type": "code",
      "source": [
        "a = 'I am a boy'\n",
        "a"
      ],
      "metadata": {
        "colab": {
          "base_uri": "https://localhost:8080/",
          "height": 36
        },
        "id": "1GOIOEvzGszd",
        "outputId": "5ed6e28e-17d9-45c4-c2b8-1c50d3eb52c1"
      },
      "execution_count": null,
      "outputs": [
        {
          "output_type": "execute_result",
          "data": {
            "text/plain": [
              "'I am a boy'"
            ],
            "application/vnd.google.colaboratory.intrinsic+json": {
              "type": "string"
            }
          },
          "metadata": {},
          "execution_count": 100
        }
      ]
    },
    {
      "cell_type": "code",
      "source": [
        "result = a.find('boy')\n",
        "result"
      ],
      "metadata": {
        "colab": {
          "base_uri": "https://localhost:8080/"
        },
        "id": "ojlZ1nWhHRyy",
        "outputId": "ef13fa15-ebed-4ccf-cf85-ff1eb7c97135"
      },
      "execution_count": null,
      "outputs": [
        {
          "output_type": "execute_result",
          "data": {
            "text/plain": [
              "7"
            ]
          },
          "metadata": {},
          "execution_count": 101
        }
      ]
    },
    {
      "cell_type": "code",
      "source": [
        "result = a.find('am')\n",
        "result"
      ],
      "metadata": {
        "colab": {
          "base_uri": "https://localhost:8080/"
        },
        "id": "kWuPnkVSHgrV",
        "outputId": "2ae333a7-ebb2-4215-d3e1-014ad059f284"
      },
      "execution_count": null,
      "outputs": [
        {
          "output_type": "execute_result",
          "data": {
            "text/plain": [
              "2"
            ]
          },
          "metadata": {},
          "execution_count": 102
        }
      ]
    },
    {
      "cell_type": "code",
      "source": [
        "a.strip()"
      ],
      "metadata": {
        "colab": {
          "base_uri": "https://localhost:8080/",
          "height": 36
        },
        "id": "_auTHLccICwD",
        "outputId": "2501ecbd-d289-40c3-b76b-37dc43a18495"
      },
      "execution_count": null,
      "outputs": [
        {
          "output_type": "execute_result",
          "data": {
            "text/plain": [
              "'I am a boy'"
            ],
            "application/vnd.google.colaboratory.intrinsic+json": {
              "type": "string"
            }
          },
          "metadata": {},
          "execution_count": 103
        }
      ]
    },
    {
      "cell_type": "code",
      "source": [
        "a = a.strip()\n",
        "a"
      ],
      "metadata": {
        "colab": {
          "base_uri": "https://localhost:8080/",
          "height": 36
        },
        "id": "hCtg9YSqJBtw",
        "outputId": "555cab4f-a10d-47bd-b59f-0a1bd6958300"
      },
      "execution_count": null,
      "outputs": [
        {
          "output_type": "execute_result",
          "data": {
            "text/plain": [
              "'I am a boy'"
            ],
            "application/vnd.google.colaboratory.intrinsic+json": {
              "type": "string"
            }
          },
          "metadata": {},
          "execution_count": 105
        }
      ]
    },
    {
      "cell_type": "markdown",
      "source": [
        "split / join / replace function"
      ],
      "metadata": {
        "id": "se8ueuM9J0Lr"
      }
    },
    {
      "cell_type": "markdown",
      "source": [
        "Split"
      ],
      "metadata": {
        "id": "x4q2pHg-J4Ym"
      }
    },
    {
      "cell_type": "code",
      "source": [
        "a = 'I am a boy'"
      ],
      "metadata": {
        "id": "KIZRd_e-KNRH"
      },
      "execution_count": null,
      "outputs": []
    },
    {
      "cell_type": "code",
      "source": [
        "tokens = a.split('a')\n",
        "tokens"
      ],
      "metadata": {
        "colab": {
          "base_uri": "https://localhost:8080/"
        },
        "id": "mydShhdlKDu7",
        "outputId": "012c6368-8e12-422e-b50d-9d14cf68fa46"
      },
      "execution_count": null,
      "outputs": [
        {
          "output_type": "execute_result",
          "data": {
            "text/plain": [
              "['I ', 'm ', ' boy']"
            ]
          },
          "metadata": {},
          "execution_count": 119
        }
      ]
    },
    {
      "cell_type": "code",
      "source": [
        "tokens = a.split('b')\n",
        "tokens"
      ],
      "metadata": {
        "colab": {
          "base_uri": "https://localhost:8080/"
        },
        "id": "vIJK-rJjLK-D",
        "outputId": "6f7489b3-c2c9-4390-ca1f-5c6ca43548a5"
      },
      "execution_count": null,
      "outputs": [
        {
          "output_type": "execute_result",
          "data": {
            "text/plain": [
              "['I am a ', 'oy']"
            ]
          },
          "metadata": {},
          "execution_count": 124
        }
      ]
    },
    {
      "cell_type": "markdown",
      "source": [
        "Join"
      ],
      "metadata": {
        "id": "hq7FtxeRKnKk"
      }
    },
    {
      "cell_type": "code",
      "source": [
        " a = 'a'.join(tokens)\n",
        " a"
      ],
      "metadata": {
        "colab": {
          "base_uri": "https://localhost:8080/",
          "height": 36
        },
        "id": "eTfUeu0EKoRL",
        "outputId": "208c81c1-5d90-479f-9432-740a17b2b524"
      },
      "execution_count": null,
      "outputs": [
        {
          "output_type": "execute_result",
          "data": {
            "text/plain": [
              "'I am a boy'"
            ],
            "application/vnd.google.colaboratory.intrinsic+json": {
              "type": "string"
            }
          },
          "metadata": {},
          "execution_count": 123
        }
      ]
    },
    {
      "cell_type": "code",
      "source": [
        "a = 'b'.join(tokens)\n",
        "a"
      ],
      "metadata": {
        "colab": {
          "base_uri": "https://localhost:8080/",
          "height": 36
        },
        "id": "dJx1rGcOLRQH",
        "outputId": "eae33d73-858a-41e9-c826-6c56aab9f58e"
      },
      "execution_count": null,
      "outputs": [
        {
          "output_type": "execute_result",
          "data": {
            "text/plain": [
              "'I am a boy'"
            ],
            "application/vnd.google.colaboratory.intrinsic+json": {
              "type": "string"
            }
          },
          "metadata": {},
          "execution_count": 125
        }
      ]
    },
    {
      "cell_type": "markdown",
      "source": [
        "Replace"
      ],
      "metadata": {
        "id": "VADfLQ1wLWtM"
      }
    },
    {
      "cell_type": "code",
      "source": [
        "a = a.replace('am','are')\n",
        "a"
      ],
      "metadata": {
        "colab": {
          "base_uri": "https://localhost:8080/",
          "height": 36
        },
        "id": "RgawvUUqLYse",
        "outputId": "13ddbe3e-7407-4e36-c348-fb7481bcf30a"
      },
      "execution_count": null,
      "outputs": [
        {
          "output_type": "execute_result",
          "data": {
            "text/plain": [
              "'I are a boy'"
            ],
            "application/vnd.google.colaboratory.intrinsic+json": {
              "type": "string"
            }
          },
          "metadata": {},
          "execution_count": 126
        }
      ]
    },
    {
      "cell_type": "code",
      "source": [
        "a = a.replace('boy','girl')\n",
        "a"
      ],
      "metadata": {
        "colab": {
          "base_uri": "https://localhost:8080/",
          "height": 36
        },
        "id": "z50GO8QtLwlS",
        "outputId": "bf551ca9-aac8-471f-b110-411bc0b0073f"
      },
      "execution_count": null,
      "outputs": [
        {
          "output_type": "execute_result",
          "data": {
            "text/plain": [
              "'I are a girl'"
            ],
            "application/vnd.google.colaboratory.intrinsic+json": {
              "type": "string"
            }
          },
          "metadata": {},
          "execution_count": 129
        }
      ]
    },
    {
      "cell_type": "markdown",
      "source": [
        "Function(함수) 만드는 법 : \n",
        "def 함수명(입력변수1, 입력변수2) \n",
        "return 출력변수명"
      ],
      "metadata": {
        "id": "kallQcgXnk3U"
      }
    },
    {
      "cell_type": "code",
      "source": [
        "def add(a,b):\n",
        "    return a+b\n",
        "def subtract(a,b):\n",
        "    return a-b\n",
        "def multiply(a,b):\n",
        "    return a*b\n",
        "def divide(a,b):\n",
        "    return a/b"
      ],
      "metadata": {
        "id": "u-b_Tb-Gnvwk"
      },
      "execution_count": null,
      "outputs": []
    },
    {
      "cell_type": "code",
      "source": [
        "c = add(1,2); print(c)"
      ],
      "metadata": {
        "id": "B_kEnYOvoCaP",
        "outputId": "e282c0bb-ba32-41c9-8cf1-86b13f37af33",
        "colab": {
          "base_uri": "https://localhost:8080/"
        }
      },
      "execution_count": null,
      "outputs": [
        {
          "output_type": "stream",
          "name": "stdout",
          "text": [
            "3\n"
          ]
        }
      ]
    },
    {
      "cell_type": "code",
      "source": [
        "c = subtract(3,5); \n",
        "c"
      ],
      "metadata": {
        "id": "mLkshfIvosRi",
        "outputId": "76e7b851-7d0b-4321-bf4d-9e4bdd28724e",
        "colab": {
          "base_uri": "https://localhost:8080/"
        }
      },
      "execution_count": null,
      "outputs": [
        {
          "output_type": "execute_result",
          "data": {
            "text/plain": [
              "-2"
            ]
          },
          "metadata": {},
          "execution_count": 9
        }
      ]
    },
    {
      "cell_type": "code",
      "source": [
        "c = multiply(5,7);\n",
        "c"
      ],
      "metadata": {
        "id": "WILhI-1Zoxx4",
        "outputId": "4a4e065c-9e0a-489b-9ab0-9d86fac4022c",
        "colab": {
          "base_uri": "https://localhost:8080/"
        }
      },
      "execution_count": null,
      "outputs": [
        {
          "output_type": "execute_result",
          "data": {
            "text/plain": [
              "35"
            ]
          },
          "metadata": {},
          "execution_count": 10
        }
      ]
    },
    {
      "cell_type": "code",
      "source": [
        "c = divide(4,8); \n",
        "c"
      ],
      "metadata": {
        "id": "waighzeCo4Lq",
        "outputId": "e958d1f9-ae54-4f5c-d7d7-c3c50c498f01",
        "colab": {
          "base_uri": "https://localhost:8080/"
        }
      },
      "execution_count": null,
      "outputs": [
        {
          "output_type": "execute_result",
          "data": {
            "text/plain": [
              "0.5"
            ]
          },
          "metadata": {},
          "execution_count": 11
        }
      ]
    },
    {
      "cell_type": "markdown",
      "source": [
        "Syntax - if 조건문 / for 반복문"
      ],
      "metadata": {
        "id": "IB9KuFgbrKw5"
      }
    },
    {
      "cell_type": "markdown",
      "source": [
        "for"
      ],
      "metadata": {
        "id": "GJ2M4XI4rRgo"
      }
    },
    {
      "cell_type": "code",
      "source": [
        "a = [3,4,5,6]\n",
        "for b in a:\n",
        "    print(b)"
      ],
      "metadata": {
        "id": "0Pu7C-T9rOn5",
        "outputId": "f69dc448-492a-4f7f-de86-c7be05b475d2",
        "colab": {
          "base_uri": "https://localhost:8080/"
        }
      },
      "execution_count": null,
      "outputs": [
        {
          "output_type": "stream",
          "name": "stdout",
          "text": [
            "3\n",
            "4\n",
            "5\n",
            "6\n"
          ]
        }
      ]
    },
    {
      "cell_type": "code",
      "source": [
        "a = [3,4,5,6]\n",
        "for i in range(len(a)):\n",
        "    print(a[i])"
      ],
      "metadata": {
        "id": "LEaXklDGtNQd",
        "outputId": "d4e4b771-9914-4de1-81b4-bd7b61f09d24",
        "colab": {
          "base_uri": "https://localhost:8080/"
        }
      },
      "execution_count": null,
      "outputs": [
        {
          "output_type": "stream",
          "name": "stdout",
          "text": [
            "3\n",
            "4\n",
            "5\n",
            "6\n"
          ]
        }
      ]
    },
    {
      "cell_type": "code",
      "source": [
        "a = ['z', 'x', 'c', 'v', 'b']\n",
        "for i in range(len(a)):\n",
        "    print(a[i])"
      ],
      "metadata": {
        "id": "KNSbc1ruuluq",
        "outputId": "01eaf62b-0e9e-4806-b688-fcfb0ac2fb5e",
        "colab": {
          "base_uri": "https://localhost:8080/"
        }
      },
      "execution_count": null,
      "outputs": [
        {
          "output_type": "stream",
          "name": "stdout",
          "text": [
            "z\n",
            "x\n",
            "c\n",
            "v\n",
            "b\n"
          ]
        }
      ]
    },
    {
      "cell_type": "markdown",
      "source": [
        "if"
      ],
      "metadata": {
        "id": "ZkZ0io60xcrM"
      }
    },
    {
      "cell_type": "code",
      "source": [
        "a = 0\n",
        "if a == 0:\n",
        "  print(a)\n",
        "else:\n",
        "  print(a+1) "
      ],
      "metadata": {
        "id": "bAeI8QXMxdbm",
        "outputId": "3799d400-4086-4e0d-d29c-1eb3e8212d80",
        "colab": {
          "base_uri": "https://localhost:8080/"
        }
      },
      "execution_count": null,
      "outputs": [
        {
          "output_type": "stream",
          "name": "stdout",
          "text": [
            "0\n"
          ]
        }
      ]
    },
    {
      "cell_type": "code",
      "source": [
        "a = 0\n",
        "if a !=0:\n",
        "   print(a)\n",
        "else:\n",
        "   print(a+1)"
      ],
      "metadata": {
        "id": "DJEm7OT5yBR7",
        "outputId": "c1d17be3-7ac5-4986-f8b0-de2fda4e8ade",
        "colab": {
          "base_uri": "https://localhost:8080/"
        }
      },
      "execution_count": null,
      "outputs": [
        {
          "output_type": "stream",
          "name": "stdout",
          "text": [
            "1\n"
          ]
        }
      ]
    },
    {
      "cell_type": "markdown",
      "source": [
        "아래 중요!!!!! comprehension 까지!!!!!"
      ],
      "metadata": {
        "id": "GP6GV8Fk0nhm"
      }
    },
    {
      "cell_type": "code",
      "source": [
        "for i in range(1,3):\n",
        "    for j in range(5,7):\n",
        "        print(i/j)"
      ],
      "metadata": {
        "id": "Xhg_61Go0Hq7",
        "outputId": "b359640e-f549-4231-b4d3-a70c28e54248",
        "colab": {
          "base_uri": "https://localhost:8080/"
        }
      },
      "execution_count": null,
      "outputs": [
        {
          "output_type": "stream",
          "name": "stdout",
          "text": [
            "0.2\n",
            "0.16666666666666666\n",
            "0.4\n",
            "0.3333333333333333\n"
          ]
        }
      ]
    },
    {
      "cell_type": "code",
      "source": [
        "for x in range(2,4):\n",
        "    for y in range(4,6):\n",
        "        if y>=5:\n",
        "            print(x+y)\n"
      ],
      "metadata": {
        "id": "2KIDWfSC1H9e",
        "outputId": "85dd34c6-8501-468a-8beb-936d32bf506f",
        "colab": {
          "base_uri": "https://localhost:8080/"
        }
      },
      "execution_count": null,
      "outputs": [
        {
          "output_type": "stream",
          "name": "stdout",
          "text": [
            "7\n",
            "8\n"
          ]
        }
      ]
    },
    {
      "cell_type": "markdown",
      "source": [
        "List comprehension"
      ],
      "metadata": {
        "id": "aXB3ZTfq3dbe"
      }
    },
    {
      "cell_type": "code",
      "source": [
        "a = [1,2,3,4]\n",
        "b = [i for i in a if i >=2]\n",
        "b"
      ],
      "metadata": {
        "id": "RUsvwpvN3iPw",
        "outputId": "c2f1ea80-0c39-4f74-abb3-4e8b00711837",
        "colab": {
          "base_uri": "https://localhost:8080/"
        }
      },
      "execution_count": null,
      "outputs": [
        {
          "output_type": "execute_result",
          "data": {
            "text/plain": [
              "[2, 3, 4]"
            ]
          },
          "metadata": {},
          "execution_count": 35
        }
      ]
    },
    {
      "cell_type": "code",
      "source": [
        "a = ['apple', 'brave', 'casual', 'drug']\n",
        "b = [i for i in a if len(i) >=5]\n",
        "b"
      ],
      "metadata": {
        "id": "NAZLFM0M4Bpx",
        "outputId": "5f0a699e-cb6c-4594-893f-c24bfc039904",
        "colab": {
          "base_uri": "https://localhost:8080/"
        }
      },
      "execution_count": null,
      "outputs": [
        {
          "output_type": "execute_result",
          "data": {
            "text/plain": [
              "['apple', 'brave', 'casual']"
            ]
          },
          "metadata": {},
          "execution_count": 37
        }
      ]
    },
    {
      "cell_type": "markdown",
      "source": [
        "Dict comprehension"
      ],
      "metadata": {
        "id": "RNjTcGM_47jf"
      }
    },
    {
      "cell_type": "code",
      "source": [
        "a = ['red', 'green', 'blue', 'purple']\n",
        "b = [3,4,5,6]\n",
        "c = {a[i]:b[i] for i in range(4)}\n",
        "c"
      ],
      "metadata": {
        "id": "mHt7BzEv49Lo",
        "outputId": "47e3858c-7d3f-4fcd-f1b7-4e128f8b9203",
        "colab": {
          "base_uri": "https://localhost:8080/"
        }
      },
      "execution_count": null,
      "outputs": [
        {
          "output_type": "execute_result",
          "data": {
            "text/plain": [
              "{'blue': 5, 'green': 4, 'purple': 6, 'red': 3}"
            ]
          },
          "metadata": {},
          "execution_count": 38
        }
      ]
    },
    {
      "cell_type": "markdown",
      "source": [
        "install -> 파일 자체를 설치\n",
        "import -> 타인이 만들어놓은 함수를 불러옴 / ram 메모리로 올려놓음\n",
        "built - in -> ex) print, len, ..."
      ],
      "metadata": {
        "id": "DJaHnwY41n6m"
      }
    },
    {
      "cell_type": "code",
      "source": [
        "import numpy"
      ],
      "metadata": {
        "id": "M_zAAjY710ry"
      },
      "execution_count": 2,
      "outputs": []
    },
    {
      "cell_type": "code",
      "source": [
        "numpy.random.randn(3)"
      ],
      "metadata": {
        "id": "WRkeRuWh2CmL",
        "outputId": "b5285dc3-4477-441a-9e4e-b79891cdc9f4",
        "colab": {
          "base_uri": "https://localhost:8080/"
        }
      },
      "execution_count": 3,
      "outputs": [
        {
          "output_type": "execute_result",
          "data": {
            "text/plain": [
              "array([-0.09217186,  1.72561646, -1.91500867])"
            ]
          },
          "metadata": {},
          "execution_count": 3
        }
      ]
    },
    {
      "cell_type": "code",
      "source": [
        "import numpy as np\n",
        "n = np.random.randn(100)\n",
        "n"
      ],
      "metadata": {
        "id": "_bGMjo4s2uR0",
        "outputId": "d1e326e0-e0fb-4813-bfdc-784dbd041a22",
        "colab": {
          "base_uri": "https://localhost:8080/"
        }
      },
      "execution_count": 12,
      "outputs": [
        {
          "output_type": "execute_result",
          "data": {
            "text/plain": [
              "array([-1.1575654 ,  0.34838807, -0.37303886, -0.72997664,  0.04453836,\n",
              "        1.59828673,  0.09362835,  0.14146674,  0.83506235, -1.2814842 ,\n",
              "        0.19955192,  1.7541532 ,  0.2142518 ,  1.34181772, -0.61511019,\n",
              "       -1.04111657,  0.70153591,  0.22337279, -0.04171035, -2.72354767,\n",
              "        0.1658447 , -0.16790817, -0.85286947,  0.94016197, -0.17177606,\n",
              "        1.29235183,  1.19431434,  0.61142505, -1.03704213,  1.47069286,\n",
              "       -0.80162054, -1.02858717, -1.70531148,  2.06383979, -0.81418022,\n",
              "        0.51483788, -1.00706696,  0.07585306, -0.38510814, -0.60093229,\n",
              "       -0.77753317, -0.78410758,  1.76151218, -0.33409264, -0.00890723,\n",
              "        0.27699904, -2.65002673,  1.19976729,  0.24194447,  1.05672017,\n",
              "       -1.2209714 , -0.16760939,  1.57490091,  1.43792415, -0.10154965,\n",
              "        0.85745176,  0.30845713,  0.37413652, -0.6850242 , -0.04598165,\n",
              "        0.072043  ,  0.10798443,  0.06913014,  1.66943718, -0.44700247,\n",
              "       -1.44181785,  1.36159521, -0.94504777,  1.47168746,  0.33936875,\n",
              "        0.30451432,  0.45579717, -0.82833417,  0.13318989,  1.39309322,\n",
              "        0.61949794, -0.53365975,  1.4299145 ,  0.00602396, -0.23127212,\n",
              "       -0.59443732,  2.42117133, -1.04036672,  0.54673909,  1.26846821,\n",
              "        0.2165852 ,  1.15436166,  1.30820572,  0.94258028,  0.78975944,\n",
              "        0.37483696, -1.78909322,  0.92576522,  0.75739445, -0.19392802,\n",
              "        0.28640216,  0.36687983, -0.50497249,  1.75158228,  0.54187431])"
            ]
          },
          "metadata": {},
          "execution_count": 12
        }
      ]
    },
    {
      "cell_type": "code",
      "source": [
        "import matplotlib"
      ],
      "metadata": {
        "id": "FZy4QF_l3lqz"
      },
      "execution_count": 10,
      "outputs": []
    },
    {
      "cell_type": "code",
      "source": [
        "matplotlib.pyplot.hist(n)"
      ],
      "metadata": {
        "id": "akL4YEqF3oqq",
        "outputId": "f0615a25-6782-4371-a1b1-9d798e80ee17",
        "colab": {
          "base_uri": "https://localhost:8080/",
          "height": 359
        }
      },
      "execution_count": 13,
      "outputs": [
        {
          "output_type": "execute_result",
          "data": {
            "text/plain": [
              "(array([ 2.,  2.,  3., 15., 14., 25., 14., 12., 11.,  2.]),\n",
              " array([-2.72354767, -2.20907577, -1.69460387, -1.18013197, -0.66566007,\n",
              "        -0.15118817,  0.36328373,  0.87775563,  1.39222753,  1.90669943,\n",
              "         2.42117133]),\n",
              " <a list of 10 Patch objects>)"
            ]
          },
          "metadata": {},
          "execution_count": 13
        },
        {
          "output_type": "display_data",
          "data": {
            "text/plain": [
              "<Figure size 432x288 with 1 Axes>"
            ],
            "image/png": "[encoded data removed]"
          },
          "metadata": {
            "needs_background": "light"
          }
        }
      ]
    },
    {
      "cell_type": "code",
      "source": [
        "import matplotlib.pyplot as plt\n",
        "plt.hist(n)"
      ],
      "metadata": {
        "id": "YhLpBKN24iif",
        "outputId": "42cda46f-574e-466f-bace-e2f4620a8c84",
        "colab": {
          "base_uri": "https://localhost:8080/",
          "height": 359
        }
      },
      "execution_count": 14,
      "outputs": [
        {
          "output_type": "execute_result",
          "data": {
            "text/plain": [
              "(array([ 2.,  2.,  3., 15., 14., 25., 14., 12., 11.,  2.]),\n",
              " array([-2.72354767, -2.20907577, -1.69460387, -1.18013197, -0.66566007,\n",
              "        -0.15118817,  0.36328373,  0.87775563,  1.39222753,  1.90669943,\n",
              "         2.42117133]),\n",
              " <a list of 10 Patch objects>)"
            ]
          },
          "metadata": {},
          "execution_count": 14
        },
        {
          "output_type": "display_data",
          "data": {
            "text/plain": [
              "<Figure size 432x288 with 1 Axes>"
            ],
            "image/png": "[encoded data removed]"
          },
          "metadata": {
            "needs_background": "light"
          }
        }
      ]
    },
    {
      "cell_type": "markdown",
      "source": [
        "from import를 쓰면 import as 처럼 축약해서 부를 수 있는 효과"
      ],
      "metadata": {
        "id": "CKDUNUi45B1m"
      }
    },
    {
      "cell_type": "code",
      "source": [
        "from matplotlib import pyplot\n",
        "pyplot.hist(n)"
      ],
      "metadata": {
        "id": "xu-GdHam5G5w",
        "outputId": "4d7264e5-aed1-4b49-8bd8-b51f4f60db83",
        "colab": {
          "base_uri": "https://localhost:8080/",
          "height": 359
        }
      },
      "execution_count": 15,
      "outputs": [
        {
          "output_type": "execute_result",
          "data": {
            "text/plain": [
              "(array([ 2.,  2.,  3., 15., 14., 25., 14., 12., 11.,  2.]),\n",
              " array([-2.72354767, -2.20907577, -1.69460387, -1.18013197, -0.66566007,\n",
              "        -0.15118817,  0.36328373,  0.87775563,  1.39222753,  1.90669943,\n",
              "         2.42117133]),\n",
              " <a list of 10 Patch objects>)"
            ]
          },
          "metadata": {},
          "execution_count": 15
        },
        {
          "output_type": "display_data",
          "data": {
            "text/plain": [
              "<Figure size 432x288 with 1 Axes>"
            ],
            "image/png": "[encoded data removed]"
          },
          "metadata": {
            "needs_background": "light"
          }
        }
      ]
    },
    {
      "cell_type": "code",
      "source": [
        "from matplotlib.pyplot import hist\n",
        "hist(n)"
      ],
      "metadata": {
        "id": "nRi_3Qkl5OJ7",
        "outputId": "8fed15a8-55b2-47f7-c54f-8892d02361b9",
        "colab": {
          "base_uri": "https://localhost:8080/",
          "height": 359
        }
      },
      "execution_count": 16,
      "outputs": [
        {
          "output_type": "execute_result",
          "data": {
            "text/plain": [
              "(array([ 2.,  2.,  3., 15., 14., 25., 14., 12., 11.,  2.]),\n",
              " array([-2.72354767, -2.20907577, -1.69460387, -1.18013197, -0.66566007,\n",
              "        -0.15118817,  0.36328373,  0.87775563,  1.39222753,  1.90669943,\n",
              "         2.42117133]),\n",
              " <a list of 10 Patch objects>)"
            ]
          },
          "metadata": {},
          "execution_count": 16
        },
        {
          "output_type": "display_data",
          "data": {
            "text/plain": [
              "<Figure size 432x288 with 1 Axes>"
            ],
            "image/png": "[encoded data removed]"
          },
          "metadata": {
            "needs_background": "light"
          }
        }
      ]
    },
    {
      "cell_type": "markdown",
      "source": [
        "create nd arrays (nd = n-dimensional)"
      ],
      "metadata": {
        "id": "LHBzE2Q36q8K"
      }
    },
    {
      "cell_type": "code",
      "source": [
        "import numpy as np"
      ],
      "metadata": {
        "id": "_9ZzBszN7UDA"
      },
      "execution_count": 17,
      "outputs": []
    },
    {
      "cell_type": "code",
      "source": [
        "x = np.array([1,2,3])\n",
        "print(x)\n",
        "print(type(x))\n",
        "print(x.shape)"
      ],
      "metadata": {
        "id": "Tno8DRaa7WNL",
        "outputId": "e6ff1b4e-052f-4c8a-940c-f92522e2b886",
        "colab": {
          "base_uri": "https://localhost:8080/"
        }
      },
      "execution_count": 18,
      "outputs": [
        {
          "output_type": "stream",
          "name": "stdout",
          "text": [
            "[1 2 3]\n",
            "<class 'numpy.ndarray'>\n",
            "(3,)\n"
          ]
        }
      ]
    },
    {
      "cell_type": "markdown",
      "source": [
        "a range - 8 포함 x"
      ],
      "metadata": {
        "id": "dLa4_qoZ8ekO"
      }
    },
    {
      "cell_type": "code",
      "source": [
        "x = np.arange(0,8,2)\n",
        "print(x)\n",
        "print(type(x))\n",
        "print(x.shape)"
      ],
      "metadata": {
        "id": "rQFVdhKe8CtC",
        "outputId": "c80a27d3-ae07-4543-e00c-c0f1f000a65a",
        "colab": {
          "base_uri": "https://localhost:8080/"
        }
      },
      "execution_count": 19,
      "outputs": [
        {
          "output_type": "stream",
          "name": "stdout",
          "text": [
            "[0 2 4 6]\n",
            "<class 'numpy.ndarray'>\n",
            "(4,)\n"
          ]
        }
      ]
    },
    {
      "cell_type": "markdown",
      "source": [
        "linspace - 8 포함 o"
      ],
      "metadata": {
        "id": "XmnFJbPk8jHl"
      }
    },
    {
      "cell_type": "code",
      "source": [
        "x = np.linspace(0,8,6)\n",
        "print(x)\n",
        "print(type(x))\n",
        "print(x.shape)"
      ],
      "metadata": {
        "id": "1dOPbAqN8rNo",
        "outputId": "9bac4ae1-7515-4d90-86d7-28bc1f18ab23",
        "colab": {
          "base_uri": "https://localhost:8080/"
        }
      },
      "execution_count": 21,
      "outputs": [
        {
          "output_type": "stream",
          "name": "stdout",
          "text": [
            "[0.  1.6 3.2 4.8 6.4 8. ]\n",
            "<class 'numpy.ndarray'>\n",
            "(6,)\n"
          ]
        }
      ]
    },
    {
      "cell_type": "code",
      "source": [
        " x = np.array([[1,2,3], [4,5,6]])\n",
        " print(x)\n",
        " print(type(x))\n",
        " print(x.shape)"
      ],
      "metadata": {
        "id": "GFO8sgWL94d6",
        "outputId": "9ad71e90-638f-4965-918f-1e51b7b879c1",
        "colab": {
          "base_uri": "https://localhost:8080/"
        }
      },
      "execution_count": 22,
      "outputs": [
        {
          "output_type": "stream",
          "name": "stdout",
          "text": [
            "[[1 2 3]\n",
            " [4 5 6]]\n",
            "<class 'numpy.ndarray'>\n",
            "(2, 3)\n"
          ]
        }
      ]
    },
    {
      "cell_type": "markdown",
      "source": [
        "[ ] 대괄호의 개수 -> dimension 파악 가능!!"
      ],
      "metadata": {
        "id": "nFIgsY1n-fPT"
      }
    },
    {
      "cell_type": "code",
      "source": [
        "x = np.array([[[1,2,3,4], [4,5,6,7],[7,8,9,10]], [[7,8,9,10], [10,11,12,13], [13,14,15,16]]])\n",
        "print(x)\n",
        "print(type(x))\n",
        "print(x.shape)"
      ],
      "metadata": {
        "id": "EzM1Q2rk-lCy",
        "outputId": "429f056b-8782-4aeb-b304-4d2f476a3146",
        "colab": {
          "base_uri": "https://localhost:8080/"
        }
      },
      "execution_count": 29,
      "outputs": [
        {
          "output_type": "stream",
          "name": "stdout",
          "text": [
            "[[[ 1  2  3  4]\n",
            "  [ 4  5  6  7]\n",
            "  [ 7  8  9 10]]\n",
            "\n",
            " [[ 7  8  9 10]\n",
            "  [10 11 12 13]\n",
            "  [13 14 15 16]]]\n",
            "<class 'numpy.ndarray'>\n",
            "(2, 3, 4)\n"
          ]
        }
      ]
    },
    {
      "cell_type": "code",
      "source": [
        "x = np.array([[[1,2], [2,3], [3,4], [4,5]], [[5,6], [7,8], [8,9], [9,10]]])\n",
        "print(x)\n",
        "print(type(x))\n",
        "print(x.shape)\n"
      ],
      "metadata": {
        "id": "iY64g-v-_r5I",
        "outputId": "fca86b7a-3831-4ff3-d746-b9e0ea1c588d",
        "colab": {
          "base_uri": "https://localhost:8080/"
        }
      },
      "execution_count": 28,
      "outputs": [
        {
          "output_type": "stream",
          "name": "stdout",
          "text": [
            "[[[ 1  2]\n",
            "  [ 2  3]\n",
            "  [ 3  4]\n",
            "  [ 4  5]]\n",
            "\n",
            " [[ 5  6]\n",
            "  [ 7  8]\n",
            "  [ 8  9]\n",
            "  [ 9 10]]]\n",
            "<class 'numpy.ndarray'>\n",
            "(2, 4, 2)\n"
          ]
        }
      ]
    }
  ]
}