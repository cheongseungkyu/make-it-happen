{
  "nbformat": 4,
  "nbformat_minor": 0,
  "metadata": {
    "colab": {
      "name": "20220425.ipynb",
      "provenance": [],
      "authorship_tag": "ABX9TyPtLP1qBQO/D4R5FTNZsw/z",
      "include_colab_link": true
    },
    "kernelspec": {
      "name": "python3",
      "display_name": "Python 3"
    },
    "language_info": {
      "name": "python"
    }
  },
  "cells": [
    {
      "cell_type": "markdown",
      "metadata": {
        "id": "view-in-github",
        "colab_type": "text"
      },
      "source": [
        "<a href=\"https://colab.research.google.com/github/cheongseungkyu/make-it-happen/blob/main/20220425.ipynb\" target=\"_parent\"><img src=\"https://colab.research.google.com/assets/colab-badge.svg\" alt=\"Open In Colab\"/></a>"
      ]
    },
    {
      "cell_type": "markdown",
      "source": [
        "RMS - Root Mean Square\n",
        "\n",
        "measuring intesnsity\n",
        "\n",
        "구조 - 많은 입자로 이루어진 물리계에서 각 입자들의 속도의 크기(=속력)의 제곱을 평균하여 제곱근으로 나타낸 값을 의미. 수학에서 평균을 구하는 방법 중의 하나로서, 변수들의 분포가 음과 양의 값을 골고루 가질 때 그 크기의 정도를 알아보고자 할 때 유용한 방법\n",
        "\n",
        "앰프에서 정격 출력을 정확하게 언급할 때 제곱근으로 나눈 평균값을 정한 것으로 RMS로 표시한 것이 가장 올바른 출력을 의미. Root Mean Square의 줄임말로, 실효치라고 함\n",
        "\n",
        "\n",
        "\n"
      ],
      "metadata": {
        "id": "q29JfegvCnO6"
      }
    },
    {
      "cell_type": "markdown",
      "source": [
        "Auto Correlation\n",
        "\n",
        "measuring pitch / F0\n",
        "\n",
        "시간 또는 공간적으로 연속된 일련의 관측치들 간에 존재하는 상관관계로서 시계열 데이터에 내재하는 시점간의 상관을 의미. 시계열자료(time series data)에서는 현재의 상태가 과거와 미래의 상태에 밀접한 연관을 지니는 경우가 많다고 함. 이럴 때 자기상관(autocorrelation) 또는 계열상관(series correlation)이 있다고 함\n",
        "\n",
        "Autocorrelation, sometimes known as serial correlation in the discrete time case, is the correlation of a signal with a delayed copy of itself as a function of delay. Informally, it is the similarity between observations as a function of the time lag between them. The analysis of autocorrelation is a mathematical tool for finding repeating patterns, such as the presence of a periodic signal obscured by noise, or identifying the missing fundamental frequency in a signal implied by its harmonic frequencies. It is often used in signal processing for analyzing functions or series of values, such as time domain signals.\n"
      ],
      "metadata": {
        "id": "JNeIdB5zDP60"
      }
    }
  ]
}