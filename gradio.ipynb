{
  "nbformat": 4,
  "nbformat_minor": 0,
  "metadata": {
    "colab": {
      "name": "gradio.ipynb",
      "provenance": [],
      "toc_visible": true,
      "authorship_tag": "ABX9TyNzz8DJ8H2wFcoWpONAF81g",
      "include_colab_link": true
    },
    "kernelspec": {
      "name": "python3",
      "display_name": "Python 3"
    },
    "language_info": {
      "name": "python"
    }
  },
  "cells": [
    {
      "cell_type": "markdown",
      "metadata": {
        "id": "view-in-github",
        "colab_type": "text"
      },
      "source": [
        "<a href=\"https://colab.research.google.com/github/cheongseungkyu/make-it-happen/blob/main/gradio.ipynb\" target=\"_parent\"><img src=\"https://colab.research.google.com/assets/colab-badge.svg\" alt=\"Open In Colab\"/></a>"
      ]
    },
    {
      "cell_type": "code",
      "execution_count": 2,
      "metadata": {
        "id": "Ek7p8MrEV78X"
      },
      "outputs": [],
      "source": [
        "import requests"
      ]
    },
    {
      "cell_type": "code",
      "source": [
        "금융위원회_주식배당정보\n",
        "\n",
        "기준일자, 법인등록번호, 주식발행회사명을 통하여 배당기준일자, 현금배당지급일자, \n",
        "주식교부일자, 주식일반배당금액, 주식차등배당금액 등을 조회하는 배당정보조회 기능"
      ],
      "metadata": {
        "id": "fGMbx5szte0-"
      },
      "execution_count": null,
      "outputs": []
    },
    {
      "cell_type": "code",
      "source": [
        "requests.get(URL)"
      ],
      "metadata": {
        "colab": {
          "base_uri": "https://localhost:8080/"
        },
        "id": "f1hoq5IXu4XI",
        "outputId": "714cbe0b-025e-47ab-c41a-593d187e9471"
      },
      "execution_count": 32,
      "outputs": [
        {
          "output_type": "execute_result",
          "data": {
            "text/plain": [
              "<Response [200]>"
            ]
          },
          "metadata": {},
          "execution_count": 32
        }
      ]
    },
    {
      "cell_type": "code",
      "source": [
        "URL = ('http://apis.data.go.kr/1160100/service/GetStocDiviInfoService/'\n",
        "    'getDiviInfo?'\n",
        "    '&pageNo=1'\n",
        "    '&numOfRows=1'\n",
        "    '&returnType=json'\n",
        "    '&fnccmpNm=%EA%B9%80%EC%B2%9C%EC%A0%80%EC%B6%95%EC%9D%80%ED%96%89'\n",
        "    '&serviceKey=INgUFCPLVXKA1R1IoOaejy9GNI%2BuFuWNZPPInGnjgr2XQQYmmq09MvpkvnykS3Hp5pd1TD1ysdH%2F1M5k9GghmQ%3D%3D')\n",
        "response = requests.get(URL)"
      ],
      "metadata": {
        "id": "IaCXA-JgtuhR"
      },
      "execution_count": 31,
      "outputs": []
    },
    {
      "cell_type": "code",
      "source": [
        "response"
      ],
      "metadata": {
        "colab": {
          "base_uri": "https://localhost:8080/"
        },
        "id": "eI8zcUdc1oCK",
        "outputId": "98c5d40b-141d-4233-974c-bf27fecb2143"
      },
      "execution_count": 33,
      "outputs": [
        {
          "output_type": "execute_result",
          "data": {
            "text/plain": [
              "<Response [200]>"
            ]
          },
          "metadata": {},
          "execution_count": 33
        }
      ]
    },
    {
      "cell_type": "markdown",
      "source": [
        "http://jsonviewer.stack.hu/"
      ],
      "metadata": {
        "id": "m5ahwk9QpmDv"
      }
    }
  ]
}